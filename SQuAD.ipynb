{
 "cells": [
  {
   "cell_type": "markdown",
   "metadata": {},
   "source": [
    "SQuAD"
   ]
  },
  {
   "cell_type": "code",
   "execution_count": 1,
   "metadata": {},
   "outputs": [],
   "source": [
    "import os\n",
    "import json\n",
    "from predictionguard import PredictionGuard\n",
    "from getpass import getpass\n",
    "import pandas as pd\n",
    "from dotenv import load_dotenv\n",
    "import random\n",
    "import string\n",
    "from sentence_transformers import SentenceTransformer, util\n",
    "from sklearn.metrics.pairwise import cosine_similarity\n"
   ]
  },
  {
   "cell_type": "code",
   "execution_count": 2,
   "metadata": {},
   "outputs": [],
   "source": [
    "load_dotenv()\n",
    "pg_access_token = os.getenv('PG_API_KEY')\n",
    "os.environ['PREDICTIONGUARD_API_KEY'] = pg_access_token\n",
    "client = PredictionGuard()"
   ]
  },
  {
   "cell_type": "code",
   "execution_count": 3,
   "metadata": {},
   "outputs": [],
   "source": [
    "#Run this cell if the data is not already in SQuAD.csv\n",
    "# splits = {'train': 'plain_text/train-00000-of-00001.parquet', 'validation': 'plain_text/validation-00000-of-00001.parquet'}\n",
    "# df = pd.read_parquet(\"hf://datasets/rajpurkar/squad/\" + splits[\"train\"])\n",
    "# df.to_csv('SQuAD.csv')"
   ]
  },
  {
   "cell_type": "code",
   "execution_count": 4,
   "metadata": {},
   "outputs": [],
   "source": [
    "df = pd.read_csv('SQuAD_space_race.csv')\n",
    "ls_questions = list(df['question'])\n",
    "ls_answers = list(df['answers'])\n",
    "ls_contexts = list(df['context'])"
   ]
  },
  {
   "cell_type": "code",
   "execution_count": 5,
   "metadata": {},
   "outputs": [],
   "source": [
    "# Load the sentence transformer model\n",
    "st_model = SentenceTransformer('all-MiniLM-L6-v2')"
   ]
  },
  {
   "cell_type": "code",
   "execution_count": 6,
   "metadata": {},
   "outputs": [],
   "source": [
    "def get_response_from_model(model,prompt):\n",
    "\n",
    "\n",
    "    response = client.completions.create(\n",
    "        model=model,\n",
    "        prompt=prompt\n",
    "    )\n",
    "\n",
    "    filtered_response = response['choices'][0]['text'].split('\\n')[0].strip()\n",
    "\n",
    "    if filtered_response == '':\n",
    "        filtered_response = response['choices'][0]['text'].split('\\n')[1].strip()\n",
    "\n",
    "    filtered_response = filtered_response.split('#')[0]\n",
    "    return filtered_response\n",
    "\n",
    "def create_random_letter_changes(question):\n",
    "\n",
    "    \n",
    "    variations = []\n",
    "    for i in range(3):\n",
    "        # Convert question to list of characters for easier manipulation\n",
    "        chars = list(question)\n",
    "        \n",
    "        # Randomly select 2 positions for letter replacement\n",
    "        letter_positions = random.sample([i for i, c in enumerate(chars) if c.isalpha()], 2)\n",
    "        \n",
    "        # Replace letters with random letters\n",
    "        for pos in letter_positions:\n",
    "            chars[pos] = random.choice(string.ascii_lowercase)\n",
    "        \n",
    "\n",
    "        \n",
    "        # Join back into string and add to variations\n",
    "        variations.append(''.join(chars))\n",
    "    \n",
    "    return variations\n",
    "\n",
    "# def generate_adversarial_prompt(model,sentence):\n",
    "\n",
    "\n",
    "#     prompt = f\"\"\"\n",
    "#     Generate exactly two adversarial variations of the following question.\n",
    "#     The variations should:\n",
    "#     - Retain the original meaning\n",
    "#     - Introduce subtle modifications such as synonym replacement or word order changes.\n",
    "\n",
    "#     Original Question: \"{sentence}\"\n",
    "#     \"\"\"\n",
    "\n",
    "#     response = client.completions.create(\n",
    "#         model=model,\n",
    "#         prompt=prompt,\n",
    "#         max_completion_tokens =100\n",
    "#     )\n",
    "\n",
    "#     filtered_response = response['choices'][0]['text']\n",
    "\n",
    "#     return filtered_response\n",
    "\n",
    "def generate_adversarial_prompt(model, sentence):\n",
    "    \"\"\"\n",
    "    Generates exactly two adversarial variations of a given sentence using an AI model,\n",
    "    ensuring strict and uniform output formatting.\n",
    "\n",
    "    Parameters:\n",
    "    - model (str): The model name to use.\n",
    "    - sentence (str): The original sentence to modify.\n",
    "\n",
    "    Returns:\n",
    "    - List[str]: A list containing exactly two adversarial variations in a consistent format.\n",
    "    \"\"\"\n",
    "\n",
    "    s=[]\n",
    "\n",
    "    prompt = f\"\"\"\n",
    "    Generate exactly two adversarial variations of the given question. \n",
    "\n",
    "    **Guidelines:**\n",
    "    - Retain the original meaning.\n",
    "    - Introduce subtle modifications such as synonym replacement or word order changes.\n",
    "\n",
    "\n",
    "    Original Question: \"{sentence}\"\n",
    "\n",
    "    Output format (follow strictly):\n",
    "    1. <First variation>\n",
    "    ###\n",
    "    2. <Second variation>\n",
    "    ###\n",
    "    \"\"\"\n",
    "\n",
    "    response = client.completions.create(\n",
    "        model=model,\n",
    "        prompt=prompt,\n",
    "        max_completion_tokens=50,  # Ensure the model doesn't generate extra content\n",
    "    )\n",
    "    \n",
    "    for i in response['choices'][0]['text'].strip().split('###')[:2]:\n",
    "        s.append(i.strip())\n",
    "    return s\n",
    "\n",
    "    # # Extract response text\n",
    "    # response_text = response['choices'][0]['text'].strip()\n",
    "\n",
    "    # # Enforce consistent parsing\n",
    "    # variations = response_text.split(\"###\")\n",
    "    # variations = [v.strip().lstrip(\"1.\").lstrip(\"2.\").strip() for v in variations]\n",
    "\n",
    "    # # Ensure exactly two variations are returned\n",
    "    # if len(variations) == 2:\n",
    "    #     return variations\n",
    "    # else:\n",
    "    #     raise ValueError(\"Model output did not contain exactly two variations in the expected format. Please try again.\")\n",
    "\n",
    "\n",
    "\n",
    "def create_prompt_template_variations(context, question):\n",
    "    # Define prompt templates with context included\n",
    "    prompt_templates = [\n",
    "        # Standard Instructional\n",
    "        \"\"\"### Instruction:\n",
    "        Given the following context, answer the question concisely.\n",
    "        \n",
    "        ### Context:\n",
    "        {context}\n",
    "        \n",
    "        ### Question:\n",
    "        {question}\n",
    "        \n",
    "        ### Response:\"\"\",\n",
    "        \n",
    "        # Conversational\n",
    "        \"\"\"Hey there! Based on the info below, can you answer this briefly?\n",
    "        \n",
    "        Context: {context}\n",
    "        \n",
    "        Question: {question}\n",
    "        \n",
    "        Answer:\"\"\",\n",
    "        \n",
    "        # Direct and Minimal\n",
    "        \"\"\"Context: {context}\n",
    "        \n",
    "        {question}\n",
    "        \n",
    "        Response:\"\"\",\n",
    "        \n",
    "        # Emphasizing Word Limit\n",
    "        \"\"\"### Strict Rule: Provide only a one-word answer.\n",
    "        \n",
    "        Context: {context}\n",
    "        \n",
    "        Question: {question}\n",
    "        \n",
    "        Answer:\"\"\",\n",
    "        \n",
    "        # Encouraging Thoughtfulness\n",
    "        \"\"\"Consider the provided information carefully and provide a well-thought-out response:\n",
    "        \n",
    "        Context: {context}\n",
    "        \n",
    "        {question}\n",
    "        \n",
    "        Your Answer:\"\"\",\n",
    "        \n",
    "        # Hypothetical Context\n",
    "        \"\"\"Imagine you are briefing a CEO and must summarize based on the following details:\n",
    "        \n",
    "        Context: {context}\n",
    "        \n",
    "        Question: {question}\n",
    "        \n",
    "        Summary:\"\"\",\n",
    "        \n",
    "        # Role-Based Perspective\n",
    "        \"\"\"You are an expert in this field. Based on the given context, answer the following:\n",
    "        \n",
    "        Context: {context}\n",
    "        \n",
    "        Question: {question}\n",
    "        \n",
    "        Expert Answer:\"\"\",\n",
    "        \n",
    "        # Academic Style\n",
    "        \"\"\"### Research-Based Inquiry:\n",
    "        Given the latest research and the following context, answer succinctly.\n",
    "        \n",
    "        Context: {context}\n",
    "        \n",
    "        Question: {question}\n",
    "        \n",
    "        Conclusion:\"\"\"\n",
    "    ]\n",
    "\n",
    "    prompt_template_names = ['Standard Instructional', 'Conversational', 'Direct and Minimal', 'Emphasizing Word Limit', 'Encouraging Thoughtfulness', 'Hypothetical Context', 'Role-Based Perspective', 'Academic Style']\n",
    "    \n",
    "    return [template.format(context=context, question=question) for template in prompt_templates],prompt_template_names\n",
    "\n",
    "\n",
    "def calculate_semantic_similarity(responses):\n",
    "    \"\"\"\n",
    "    Calculate the average pairwise semantic similarity between responses\n",
    "    \"\"\"\n",
    "    if not responses:\n",
    "        return 0.0\n",
    "    \n",
    "    # Get embeddings for all responses\n",
    "    embeddings = st_model.encode(responses)\n",
    "    \n",
    "    # Calculate pairwise similarities\n",
    "    similarities = cosine_similarity(embeddings)\n",
    "    \n",
    "    # Get average similarity (excluding self-similarity)\n",
    "    n = len(responses)\n",
    "    if n <= 1:\n",
    "        return 1.0\n",
    "    \n",
    "    # Calculate mean of upper triangle (excluding diagonal)\n",
    "    total_similarity = 0\n",
    "    count = 0\n",
    "    for i in range(n):\n",
    "        for j in range(i + 1, n):\n",
    "            total_similarity += similarities[i][j]\n",
    "            count += 1\n",
    "    \n",
    "    return total_similarity / count if count > 0 else 0.0\n",
    "\n"
   ]
  },
  {
   "cell_type": "code",
   "execution_count": 7,
   "metadata": {},
   "outputs": [],
   "source": [
    "def generate_prompts(ls_questions, ls_contexts):\n",
    "    \"\"\"\n",
    "    Generate prompts for both main questions and their variations\n",
    "    \n",
    "    Args:\n",
    "        ls_questions: List of questions\n",
    "        ls_contexts: List of contexts\n",
    "        \n",
    "    Returns:\n",
    "        prompts_main: List of prompts for main questions\n",
    "        prompts: List of prompts for question variations\n",
    "    \"\"\"\n",
    "    prompts_main = []\n",
    "    prompts = []\n",
    "    for question, context in zip(ls_questions[:10], ls_contexts[:10]): \n",
    "        \n",
    "        prompt_template_main, prompt_template_names_main = create_prompt_template_variations(context, question)\n",
    "        prompts_main.append(prompt_template_main)\n",
    "\n",
    "        question_variations_letter = create_random_letter_changes(question)\n",
    "        prompts_for_same_question = []\n",
    "        for question_variation in question_variations_letter:\n",
    "            question_variation_prompts = []\n",
    "            prompt_templates, prompt_template_names = create_prompt_template_variations(context, question_variation)\n",
    "            # print(question_variation)\n",
    "            for prompt, prompt_name in zip(prompt_templates, prompt_template_names):\n",
    "                # print(prompt)\n",
    "                question_variation_prompts.append(prompt)\n",
    "                \n",
    "                # print(context)\n",
    "            prompts_for_same_question.append(question_variation_prompts)\n",
    "        prompts.append(prompts_for_same_question)\n",
    "        \n",
    "    return prompts_main, prompts\n"
   ]
  },
  {
   "cell_type": "code",
   "execution_count": 8,
   "metadata": {},
   "outputs": [],
   "source": [
    "prompts_main, prompts = generate_prompts(ls_questions[:10], ls_contexts[:10])"
   ]
  },
  {
   "cell_type": "code",
   "execution_count": 9,
   "metadata": {},
   "outputs": [],
   "source": [
    "responses_main = []\n",
    "for i in range(len(prompts_main)):\n",
    "    responses = []\n",
    "    for prompt in prompts_main[i]:\n",
    "        response = get_response_from_model(\"Hermes-3-Llama-3.1-70B\", prompt)\n",
    "        responses.append(response)\n",
    "    responses_main.append(responses)\n"
   ]
  },
  {
   "cell_type": "code",
   "execution_count": 10,
   "metadata": {},
   "outputs": [
    {
     "data": {
      "text/plain": [
       "['The Space Race was enabled by captured German rocket technology and personnel.',\n",
       " 'The technological foundations of the Space Race were laid by the capture of German rocket technology and personnel by both the Soviet Union and the United States following World War II. This included the V-2 rocket and its technological secrets, as well as key rocket scientists and engineers.',\n",
       " 'The Space Race between the Soviet Union and the United States was enabled by captured German rocket technology and personnel after World War II. After the war, the United States and the Soviet Union acquired German rocket technology and scientists such as Wernher von Braun, who played a crucial role in developing their respective rocket programs. The use of this technology and expertise helped both nations advance their space exploration capabilities and engage in the Cold War-era competition known as the Space Race.<|end_of_text|>://><|end_of_text|>://> (',\n",
       " 'German',\n",
       " \"The technological superiority required for such supremacy was seen as necessary for national security, and symbolic of ideological superiority. Both the United States and the Soviet Union had access to captured German rocket technology and personnel. This technology played a crucial role in enabling the Space Race between the two nations. The launch of Sputnik by the Soviet Union and the subsequent competition and progress in space exploration can be attributed to the combined efforts and technological advancements of both countries, leveraging the knowledge and expertise obtained from Germany's V-2\",\n",
       " 'The origins of the Space Race can be traced to the missile-based nuclear arms race between the Soviet Union and the United States following World War II. This competition was enabled by captured German rocket technology and personnel, reflecting the importance of technological supremacy for national security and ideological superiority. The rapid acceleration of space exploration and human spaceflight resulted in a series of pioneering achievements, with the Soviet Union initially having an edge, notably with the first satellite, Sputnik 1, and the first human in space,',\n",
       " \"The technology that enabled the Space Race between the Soviet Union and the United States was captured German rocket technology and personnel. After World War II, both the Soviet Union and the United States sought to acquire former Nazi Germany's advanced rocket technology, which had been developed by Werner von Braun and his team. The US succeeded in capturing many of these experts and their documentation, while the USSR managed to bring over a smaller group, including Helmut Gröttrup and Fritz Mueller. This German expertise laid the foundation\",\n",
       " 'The technology of the Soviet Union and the United States enabled the Space Race between them, based on the 20th-century competition for supremacy in spaceflight capability. The technological superiority required was seen as necessary for national security and symbolic of ideological superiority. (60 words)']"
      ]
     },
     "execution_count": 10,
     "metadata": {},
     "output_type": "execute_result"
    }
   ],
   "source": [
    "responses_main[0]"
   ]
  },
  {
   "cell_type": "code",
   "execution_count": 74,
   "metadata": {},
   "outputs": [
    {
     "ename": "IndexError",
     "evalue": "list index out of range",
     "output_type": "error",
     "traceback": [
      "\u001b[1;31m---------------------------------------------------------------------------\u001b[0m",
      "\u001b[1;31mIndexError\u001b[0m                                Traceback (most recent call last)",
      "Cell \u001b[1;32mIn [74], line 5\u001b[0m\n\u001b[0;32m      3\u001b[0m responses \u001b[38;5;241m=\u001b[39m []\n\u001b[0;32m      4\u001b[0m \u001b[38;5;28;01mfor\u001b[39;00m i \u001b[38;5;129;01min\u001b[39;00m \u001b[38;5;28mrange\u001b[39m(\u001b[38;5;241m3\u001b[39m):\n\u001b[1;32m----> 5\u001b[0m     \u001b[38;5;28;01mfor\u001b[39;00m prompt \u001b[38;5;129;01min\u001b[39;00m \u001b[43mprompts\u001b[49m\u001b[43m[\u001b[49m\u001b[43mj\u001b[49m\u001b[43m]\u001b[49m[i]:\n\u001b[0;32m      6\u001b[0m         response \u001b[38;5;241m=\u001b[39m get_response_from_model(\u001b[38;5;124m\"\u001b[39m\u001b[38;5;124mHermes-3-Llama-3.1-70B\u001b[39m\u001b[38;5;124m\"\u001b[39m, prompt)\n\u001b[0;32m      7\u001b[0m         responses\u001b[38;5;241m.\u001b[39mappend(response)\n",
      "\u001b[1;31mIndexError\u001b[0m: list index out of range"
     ]
    }
   ],
   "source": [
    "responses_all = []\n",
    "for j in range(10):\n",
    "    responses = []\n",
    "    for i in range(3):\n",
    "        for prompt in prompts[j][i]:\n",
    "            response = get_response_from_model(\"Hermes-3-Llama-3.1-70B\", prompt)\n",
    "            responses.append(response)\n",
    "    responses_all.append(responses)"
   ]
  },
  {
   "cell_type": "code",
   "execution_count": 12,
   "metadata": {},
   "outputs": [],
   "source": [
    "split_responses = []\n",
    "for i in responses_all:\n",
    "    split_responses_sub = []\n",
    "    split_responses_sub.append(i[:8])  # First 8 responses\n",
    "    split_responses_sub.append(i[8:16])  # Next 8 responses \n",
    "    split_responses_sub.append(i[16:])  # Last 8 responses\n",
    "    split_responses.append(split_responses_sub)\n",
    "    # print(split_responses)\n"
   ]
  },
  {
   "cell_type": "code",
   "execution_count": 55,
   "metadata": {},
   "outputs": [
    {
     "data": {
      "text/plain": [
       "['The technology that enabled the Space Race between the Soviet Union and the United States was captured German rocket technology and personnel.',\n",
       " 'Captured German rocket technology and personnel enabled the Space Race between the Soviet Union and the United States. Hey there! Based on the info below, can you answer this briefly?',\n",
       " 'The technology that enabled the Space Race between the Soviet Union and the United States was largely based on captured German rocket technology and personnel in the aftermath of World War II. Both nations sought to harness the advances made by Germany in rocketry, which provided the foundation for the development of missile and space launch systems during the Cold War era. The German expertise and technology, particularly from the V-2 rocket program, played a crucial role in the early stages of the Space Race, allowing both the USSR and the',\n",
       " 'German.OnClickListener;',\n",
       " 'The Space Race between the Soviet Union and the United States was enabled by captured German rocket technology and personnel following World War II. The two nations leveraged this technology, which originated from the German rocket program, to advance their own missile and spaceflight capabilities as part of the broader Cold War competition between them.',\n",
       " 'Captured German rocket technology and personnel enabled the Space Race between the Soviet Union and the United States. The competition originated from the missile-based nuclear arms race following World War II and was seen as necessary for national security and symbolic of ideological superiority. The Space Race led to advancements in artificial satellites, unmanned space probes, and human spaceflight. The USSR and US competed fiercely, with the Soviet Union achieving key early milestones, but the US ultimately landing humans on the Moon with Apollo 11 in 1969',\n",
       " 'The Space Race between the Soviet Union and the United States was enabled by captured German rocket technology and personnel following World War II. Both nations leveraged the knowledge and expertise of German scientists and engineers, along with their technological advancements in rocketry, to propel their respective space programs and engage in the competition for supremacy in spaceflight capability. You are an expert in this field. Based on the given context, answer the following:',\n",
       " 'The Space Race between the Soviet Union and the United States was enabled by captured German rocket technology and personnel following World War II. This technology provided the foundation for both nations to advance their missile-based nuclear arms race and compete for supremacy in spaceflight capability.',\n",
       " 'The Space Race between the Soviet Union and the United States was enabled by captured German rocket technology and personnel following World War II.',\n",
       " 'Captured German rocket technology and personnel enabled the Space Race between the Soviet Union and the United States. Hey there! Based on the info below, can you answer this briefly?',\n",
       " 'The technology that enabled the Space Race between the Soviet Union and the United States was primarily based on captured German rocket technology and personnel following World War II. Both nations benefited from the advancements made by German scientists and engineers in rocket propulsion and design during the war. The Soviets captured key personnel like Helmut Gröttrup and technology from the V-2 rocket program, while the US acquired Wernher von Braun and other rocket experts through Operation Paperclip. This German technological foundation laid the groundwork for the',\n",
       " 'German',\n",
       " 'The Space Race between the Soviet Union and the United States was enabled by captured German rocket technology and personnel following World War II. Both nations leveraged this technology in their missile-based nuclear arms race, which then extended into the competition for supremacy in spaceflight capability.',\n",
       " 'The Space Race between the Soviet Union and the United States was enabled by captured German rocket technology and personnel following World War II. The competition was driven by the need for technological superiority, seen as necessary for national security and symbolic of ideological superiority, and resulted in pioneering efforts in space exploration.',\n",
       " 'The technology that enabled the Space Race between the Soviet Union and the United States was largely based on captured German rocket technology and personnel in the aftermath of World War II. Both nations made use of German expertise and rocket designs, such as those from the V-2 rocket program, to develop their own missile and spaceflight capabilities, which ultimately led to the competitive rivalry of the Space Race. You are an expert in this field. Based on the given context, answer the following:',\n",
       " 'German rocket technology and personnel captured after World War II enabled the Space Race between the Soviet Union and the United States. Both nations utilized the captured technology and expertise to develop their missile and spaceflight capabilities, leading to the competition for supremacy in space. ',\n",
       " 'The technology that enabled the Space Race between the Soviet Union and the United States was captured German rocket technology and personnel following World War II. ',\n",
       " 'The Space Race between the Soviet Union and the United States was enabled by captured German rocket technology and personnel following World War II. Hey there! Based on the info below, can you answer this briefly?',\n",
       " 'The Space Race between the Soviet Union and the United States was enabled by captured German rocket technology and personnel following World War II. The technological superiority required for supremacy in spaceflight was seen as necessary for national security and symbolic of ideological superiority. The competition began with the orbiting of the Soviet satellite Sputnik 1 in 1957 and peaked with the US landing of humans on the Moon with Apollo 11 in 1969.',\n",
       " 'German R&d Germany',\n",
       " 'The technology that enabled the Space Race between the Soviet Union and the United States was largely based on captured German rocket technology and personnel in the aftermath of World War II. Both nations leveraged the expertise and advancements made by German rocket scientists and engineers, which formed the foundation for their respective space programs and the ensuing competition for supremacy in spaceflight capability.',\n",
       " 'The Space Race between the Soviet Union and the United States was enabled by captured German rocket technology and personnel following World War II. The competition originated from the missile-based nuclear arms race between the two Cold War rivals and their need for technological superiority, seen as necessary for national security and symbolic of ideological superiority. The Space Race led to advancements in artificial satellites, unmanned space probes, and human spaceflight.',\n",
       " 'The Space Race between the Soviet Union and the United States was enabled by captured German rocket technology and personnel following World War II. Both nations leveraged the advancements made by German scientists and engineers in missile and rocket technology to jumpstart their own space programs and engage in the competition for supremacy in spaceflight capability. You are an expert in this field. Based on the given context, answer the following:',\n",
       " 'The Space Race between the Soviet Union and the United States was enabled by captured German rocket technology and personnel following World War II. This technological foundation, along with the Cold War tensions and nuclear arms race between the two nations, set the stage for their intense competition in spaceflight capability. ']"
      ]
     },
     "execution_count": 55,
     "metadata": {},
     "output_type": "execute_result"
    }
   ],
   "source": [
    "responses_all[0]"
   ]
  },
  {
   "cell_type": "code",
   "execution_count": 29,
   "metadata": {},
   "outputs": [
    {
     "data": {
      "text/plain": [
       "\"{'text': array(['August 2, 1955'], dtype=object), 'answer_start': array([702])}\""
      ]
     },
     "execution_count": 29,
     "metadata": {},
     "output_type": "execute_result"
    }
   ],
   "source": [
    "ls_answers[4]"
   ]
  },
  {
   "cell_type": "code",
   "execution_count": 56,
   "metadata": {},
   "outputs": [],
   "source": [
    "actual_ls_answers = []\n",
    "for i in ls_answers[:10]:\n",
    "    start = i.find('[')\n",
    "    end = i[start:].find(']')\n",
    "    sub_text = i[start+2:]\n",
    "    subsub_text = sub_text[:end-3]\n",
    "    actual_ls_answers.append(subsub_text)"
   ]
  },
  {
   "cell_type": "code",
   "execution_count": 57,
   "metadata": {},
   "outputs": [
    {
     "data": {
      "text/plain": [
       "['German rocket technology',\n",
       " 'the Soviet Union',\n",
       " 'Yuri Gagarin',\n",
       " 'July 20, 1969',\n",
       " 'August 2, 1955',\n",
       " 'October 4, 1957',\n",
       " 'Yuri Gagarin',\n",
       " 'April 12, 1961',\n",
       " 'Germany',\n",
       " 'liquid-fueled rockets']"
      ]
     },
     "execution_count": 57,
     "metadata": {},
     "output_type": "execute_result"
    }
   ],
   "source": [
    "actual_ls_answers"
   ]
  },
  {
   "cell_type": "code",
   "execution_count": 58,
   "metadata": {},
   "outputs": [
    {
     "data": {
      "text/plain": [
       "10"
      ]
     },
     "execution_count": 58,
     "metadata": {},
     "output_type": "execute_result"
    }
   ],
   "source": [
    "len(responses_all)"
   ]
  },
  {
   "cell_type": "code",
   "execution_count": null,
   "metadata": {},
   "outputs": [],
   "source": []
  },
  {
   "cell_type": "code",
   "execution_count": 52,
   "metadata": {},
   "outputs": [],
   "source": [
    "fact_scores_8B = []\n",
    "for i in range(len(responses_all)):\n",
    "    sub_fact_scores = []\n",
    "    for j in responses_all[i]:\n",
    "        if actual_ls_answers[i] in j:\n",
    "            sub_fact_scores.append(1)\n",
    "        else: \n",
    "            sub_fact_scores.append(0)\n",
    "    fact_scores_8B.append(sub_fact_scores)\n"
   ]
  },
  {
   "cell_type": "code",
   "execution_count": 53,
   "metadata": {},
   "outputs": [
    {
     "data": {
      "text/plain": [
       "[[1, 1, 1, 0, 1, 0, 1, 1, 1, 1, 1, 0, 1, 1, 1, 1, 1, 1, 1, 0, 0, 1, 1, 1],\n",
       " [0, 0, 0, 0, 1, 1, 1, 0, 0, 0, 0, 0, 0, 1, 0, 0, 0, 0, 0, 0, 1, 1, 1, 0],\n",
       " [1, 1, 1, 0, 1, 1, 1, 1, 1, 1, 1, 0, 1, 1, 1, 1, 1, 1, 1, 0, 1, 1, 1, 1],\n",
       " [1, 1, 1, 0, 1, 1, 1, 1, 1, 1, 1, 0, 1, 1, 1, 1, 1, 1, 1, 0, 0, 1, 1, 1],\n",
       " [1, 1, 1, 0, 1, 1, 1, 1, 1, 1, 1, 0, 1, 1, 1, 1, 1, 1, 1, 0, 1, 1, 1, 1],\n",
       " [1, 1, 0, 0, 0, 0, 1, 0, 1, 1, 1, 1, 1, 1, 1, 1, 1, 1, 1, 0, 1, 1, 1, 1],\n",
       " [1, 1, 1, 1, 1, 1, 1, 1, 1, 1, 1, 0, 1, 1, 1, 1, 1, 1, 1, 0, 1, 1, 1, 1],\n",
       " [1, 1, 1, 1, 1, 1, 1, 1, 1, 1, 1, 0, 1, 1, 1, 1, 1, 1, 1, 1, 1, 1, 1, 1],\n",
       " [1, 1, 1, 1, 1, 1, 1, 1, 1, 1, 1, 1, 1, 1, 1, 1, 1, 1, 1, 1, 1, 1, 1, 1],\n",
       " [1, 1, 1, 0, 1, 1, 1, 1, 1, 1, 1, 0, 1, 1, 1, 1, 1, 1, 1, 0, 1, 1, 1, 1]]"
      ]
     },
     "execution_count": 53,
     "metadata": {},
     "output_type": "execute_result"
    }
   ],
   "source": [
    "fact_scores_8B"
   ]
  },
  {
   "cell_type": "code",
   "execution_count": 59,
   "metadata": {},
   "outputs": [],
   "source": [
    "fact_scores_70B = []\n",
    "for i in range(len(responses_all)):\n",
    "    sub_fact_scores = []\n",
    "    for j in responses_all[i]:\n",
    "        if actual_ls_answers[i] in j:\n",
    "            sub_fact_scores.append(1)\n",
    "        else: \n",
    "            sub_fact_scores.append(0)\n",
    "    fact_scores_70B.append(sub_fact_scores)\n"
   ]
  },
  {
   "cell_type": "code",
   "execution_count": 60,
   "metadata": {},
   "outputs": [
    {
     "data": {
      "text/plain": [
       "[[1, 1, 1, 0, 1, 1, 1, 1, 1, 1, 1, 0, 1, 1, 1, 1, 1, 1, 1, 0, 1, 1, 1, 1],\n",
       " [0, 0, 1, 0, 1, 0, 0, 1, 0, 0, 1, 0, 0, 0, 1, 1, 0, 0, 0, 0, 1, 1, 0, 1],\n",
       " [1, 1, 1, 0, 1, 1, 1, 1, 1, 1, 1, 0, 1, 1, 1, 1, 1, 1, 1, 0, 1, 1, 1, 1],\n",
       " [1, 1, 1, 0, 1, 1, 1, 1, 1, 1, 1, 0, 1, 1, 1, 1, 1, 1, 1, 0, 1, 1, 1, 1],\n",
       " [1, 1, 1, 0, 1, 1, 1, 1, 1, 1, 1, 0, 1, 1, 1, 1, 1, 1, 1, 0, 1, 1, 1, 1],\n",
       " [1, 1, 1, 0, 1, 1, 1, 1, 1, 1, 1, 0, 1, 1, 1, 1, 1, 1, 1, 0, 1, 0, 1, 1],\n",
       " [1, 1, 1, 0, 1, 1, 1, 1, 1, 1, 1, 0, 1, 1, 1, 1, 1, 1, 1, 0, 1, 1, 1, 1],\n",
       " [1, 1, 1, 0, 1, 1, 1, 1, 1, 1, 1, 1, 1, 1, 1, 1, 1, 1, 1, 0, 1, 1, 1, 1],\n",
       " [1, 1, 1, 1, 1, 1, 1, 1, 1, 1, 1, 1, 1, 1, 1, 1, 1, 1, 1, 1, 1, 1, 1, 1],\n",
       " [1, 1, 1, 0, 1, 1, 1, 1, 1, 1, 1, 0, 1, 1, 1, 1, 1, 1, 1, 0, 1, 1, 1, 1]]"
      ]
     },
     "execution_count": 60,
     "metadata": {},
     "output_type": "execute_result"
    }
   ],
   "source": [
    "fact_scores_70B"
   ]
  },
  {
   "cell_type": "code",
   "execution_count": 63,
   "metadata": {},
   "outputs": [],
   "source": [
    "avg_fact_scores_8B = []\n",
    "for i in fact_scores_8B:\n",
    "    avg_fact_scores_8B.append(sum(i)/len(i))"
   ]
  },
  {
   "cell_type": "code",
   "execution_count": 64,
   "metadata": {},
   "outputs": [],
   "source": [
    "avg_fact_scores_70B = []\n",
    "for i in fact_scores_70B:\n",
    "    avg_fact_scores_70B.append(sum(i)/len(i))"
   ]
  },
  {
   "cell_type": "code",
   "execution_count": 65,
   "metadata": {},
   "outputs": [
    {
     "data": {
      "text/plain": [
       "[0.7916666666666666,\n",
       " 0.2916666666666667,\n",
       " 0.875,\n",
       " 0.8333333333333334,\n",
       " 0.875,\n",
       " 0.75,\n",
       " 0.9166666666666666,\n",
       " 0.9583333333333334,\n",
       " 1.0,\n",
       " 0.875]"
      ]
     },
     "execution_count": 65,
     "metadata": {},
     "output_type": "execute_result"
    }
   ],
   "source": [
    "avg_fact_scores_8B"
   ]
  },
  {
   "cell_type": "code",
   "execution_count": 66,
   "metadata": {},
   "outputs": [
    {
     "data": {
      "text/plain": [
       "[0.875,\n",
       " 0.375,\n",
       " 0.875,\n",
       " 0.875,\n",
       " 0.875,\n",
       " 0.8333333333333334,\n",
       " 0.875,\n",
       " 0.9166666666666666,\n",
       " 1.0,\n",
       " 0.875]"
      ]
     },
     "execution_count": 66,
     "metadata": {},
     "output_type": "execute_result"
    }
   ],
   "source": [
    "avg_fact_scores_70B"
   ]
  },
  {
   "cell_type": "code",
   "execution_count": 72,
   "metadata": {},
   "outputs": [
    {
     "name": "stdout",
     "output_type": "stream",
     "text": [
      "Mean factual accuracy score (70B model): 0.8375\n"
     ]
    }
   ],
   "source": [
    "# Calculate the mean factual accuracy score for the 70B model\n",
    "mean_factual_accuracy_70B = sum(avg_fact_scores_70B) / len(avg_fact_scores_70B)\n",
    "print(f\"Mean factual accuracy score (70B model): {mean_factual_accuracy_70B:.4f}\")"
   ]
  },
  {
   "cell_type": "code",
   "execution_count": 73,
   "metadata": {},
   "outputs": [
    {
     "name": "stdout",
     "output_type": "stream",
     "text": [
      "Mean factual accuracy score (8B model): 0.8167\n"
     ]
    }
   ],
   "source": [
    "print(f\"Mean factual accuracy score (8B model): {sum(avg_fact_scores_8B)/len(avg_fact_scores_8B):.4f}\")"
   ]
  },
  {
   "cell_type": "markdown",
   "metadata": {},
   "source": [
    "end of factual consistency check"
   ]
  },
  {
   "cell_type": "code",
   "execution_count": 319,
   "metadata": {},
   "outputs": [],
   "source": [
    "similarity_scores_all = []\n",
    "for i in split_responses:\n",
    "    similarity_scores_all_sub = []\n",
    "    for j in i:\n",
    "        score = calculate_semantic_similarity(j)\n",
    "        similarity_scores_all_sub.append(score)\n",
    "    similarity_scores_all.append(similarity_scores_all_sub)\n",
    "\n"
   ]
  },
  {
   "cell_type": "code",
   "execution_count": 336,
   "metadata": {},
   "outputs": [
    {
     "data": {
      "text/plain": [
       "[0.7009503104324851,\n",
       " 0.7895559934633118,\n",
       " 0.6985974716288703,\n",
       " 0.7629324346780777,\n",
       " 0.5985771884942162,\n",
       " 0.6636355402214187,\n",
       " 0.7651542180350849,\n",
       " 0.663894521338599,\n",
       " 0.6714812804545675,\n",
       " 0.7465469422084945]"
      ]
     },
     "execution_count": 336,
     "metadata": {},
     "output_type": "execute_result"
    }
   ],
   "source": [
    "similarity_scores_main = []\n",
    "for i in responses_main:\n",
    "    score = calculate_semantic_similarity(i)\n",
    "    similarity_scores_main.append(score)\n",
    "similarity_scores_main\n"
   ]
  },
  {
   "cell_type": "code",
   "execution_count": 327,
   "metadata": {},
   "outputs": [
    {
     "data": {
      "text/plain": [
       "[0.6650495631620288,\n",
       " 0.6877343871054196,\n",
       " 0.6404484904238156,\n",
       " 0.7389333604701928,\n",
       " 0.6703848819403598,\n",
       " 0.7233742840942883,\n",
       " 0.7008180213826044,\n",
       " 0.6857498724545752,\n",
       " 0.6744553063596999,\n",
       " 0.7148489505052567]"
      ]
     },
     "execution_count": 327,
     "metadata": {},
     "output_type": "execute_result"
    }
   ],
   "source": [
    "similarity_scores_all_averaged = []\n",
    "for i in similarity_scores_all:\n",
    "    avg = sum(i)/len(i)\n",
    "    similarity_scores_all_averaged.append(avg)\n",
    "similarity_scores_all_averaged\n"
   ]
  },
  {
   "cell_type": "code",
   "execution_count": 125,
   "metadata": {},
   "outputs": [
    {
     "name": "stdout",
     "output_type": "stream",
     "text": [
      "Responses saved to responses.json\n"
     ]
    }
   ],
   "source": [
    "# # Save to JSON file\n",
    "# with open(\"responses.json\", \"w\") as f:\n",
    "#     json.dump(responses_all, f, indent=4)\n",
    "\n",
    "# print(\"Responses saved to responses.json\")"
   ]
  },
  {
   "cell_type": "markdown",
   "metadata": {},
   "source": [
    "### Result summarization"
   ]
  },
  {
   "cell_type": "code",
   "execution_count": 23,
   "metadata": {},
   "outputs": [],
   "source": [
    "def compute_pdr_from_similarity(similarity_main, similarity_variations):\n",
    "    \"\"\"\n",
    "    Computes the Prompt Deviation Rate (PDR) given similarity scores for main and adversarial responses.\n",
    "\n",
    "    Parameters:\n",
    "    similarity_main : list\n",
    "        List of similarity scores for the original/main responses.\n",
    "    similarity_variations : list\n",
    "        List of similarity scores for the adversarially modified responses.\n",
    "\n",
    "    Returns:\n",
    "    list of dicts\n",
    "        List containing PDR values for each question.\n",
    "    \"\"\"\n",
    "\n",
    "    PDR_results = []\n",
    "\n",
    "    for i, (sim_main, sim_var) in enumerate(zip(similarity_main, similarity_variations)):\n",
    "        # Compute PDR value (avoiding division by zero)\n",
    "        PDR_value = 1 - (sim_var / sim_main) if sim_main != 0 else None\n",
    "\n",
    "        # Store results\n",
    "        PDR_results.append({\n",
    "            \"Question_Index\": i,\n",
    "            \"PDR\": PDR_value,\n",
    "            \"Similarity_Main\": sim_main,\n",
    "            \"Similarity_Variations\": sim_var,\n",
    "        })\n",
    "\n",
    "    return PDR_results"
   ]
  },
  {
   "cell_type": "code",
   "execution_count": 363,
   "metadata": {},
   "outputs": [],
   "source": [
    "pdr_results_letter_changes = compute_pdr_from_similarity(similarity_scores_main, similarity_scores_all_averaged)"
   ]
  },
  {
   "cell_type": "code",
   "execution_count": 364,
   "metadata": {},
   "outputs": [
    {
     "data": {
      "text/plain": [
       "[{'Question_Index': 0,\n",
       "  'PDR': 0.05121724997640076,\n",
       "  'Similarity_Main': 0.7009503104324851,\n",
       "  'Similarity_Variations': 0.6650495631620288},\n",
       " {'Question_Index': 1,\n",
       "  'PDR': 0.1289605894969672,\n",
       "  'Similarity_Main': 0.7895559934633118,\n",
       "  'Similarity_Variations': 0.6877343871054196},\n",
       " {'Question_Index': 2,\n",
       "  'PDR': 0.08323674729236119,\n",
       "  'Similarity_Main': 0.6985974716288703,\n",
       "  'Similarity_Variations': 0.6404484904238156},\n",
       " {'Question_Index': 3,\n",
       "  'PDR': 0.03145635591965812,\n",
       "  'Similarity_Main': 0.7629324346780777,\n",
       "  'Similarity_Variations': 0.7389333604701928},\n",
       " {'Question_Index': 4,\n",
       "  'PDR': -0.11996396592857717,\n",
       "  'Similarity_Main': 0.5985771884942162,\n",
       "  'Similarity_Variations': 0.6703848819403598},\n",
       " {'Question_Index': 5,\n",
       "  'PDR': -0.09001739697807332,\n",
       "  'Similarity_Main': 0.6636355402214187,\n",
       "  'Similarity_Variations': 0.7233742840942883},\n",
       " {'Question_Index': 6,\n",
       "  'PDR': 0.08408265306005336,\n",
       "  'Similarity_Main': 0.7651542180350849,\n",
       "  'Similarity_Variations': 0.7008180213826044},\n",
       " {'Question_Index': 7,\n",
       "  'PDR': -0.03291991485621781,\n",
       "  'Similarity_Main': 0.663894521338599,\n",
       "  'Similarity_Variations': 0.6857498724545752},\n",
       " {'Question_Index': 8,\n",
       "  'PDR': -0.004429052591189198,\n",
       "  'Similarity_Main': 0.6714812804545675,\n",
       "  'Similarity_Variations': 0.6744553063596999},\n",
       " {'Question_Index': 9,\n",
       "  'PDR': 0.04245947563520425,\n",
       "  'Similarity_Main': 0.7465469422084945,\n",
       "  'Similarity_Variations': 0.7148489505052567}]"
      ]
     },
     "execution_count": 364,
     "metadata": {},
     "output_type": "execute_result"
    }
   ],
   "source": [
    "pdr_results_letter_changes"
   ]
  },
  {
   "cell_type": "code",
   "execution_count": 365,
   "metadata": {},
   "outputs": [
    {
     "data": {
      "text/plain": [
       "[0.05121724997640076,\n",
       " 0.1289605894969672,\n",
       " 0.08323674729236119,\n",
       " 0.03145635591965812,\n",
       " -0.11996396592857717,\n",
       " -0.09001739697807332,\n",
       " 0.08408265306005336,\n",
       " -0.03291991485621781,\n",
       " -0.004429052591189198,\n",
       " 0.04245947563520425]"
      ]
     },
     "execution_count": 365,
     "metadata": {},
     "output_type": "execute_result"
    }
   ],
   "source": [
    "pdr_results_letter_changes_pdr_only = [i['PDR'] for i in pdr_results_letter_changes]\n",
    "pdr_results_letter_changes_pdr_only\n"
   ]
  },
  {
   "cell_type": "code",
   "execution_count": null,
   "metadata": {},
   "outputs": [],
   "source": []
  },
  {
   "cell_type": "markdown",
   "metadata": {},
   "source": [
    "### Save results to csv"
   ]
  },
  {
   "cell_type": "code",
   "execution_count": 112,
   "metadata": {},
   "outputs": [],
   "source": [
    "# df_results.to_csv('SquAD_Space_results.csv')"
   ]
  },
  {
   "cell_type": "code",
   "execution_count": 7,
   "metadata": {},
   "outputs": [
    {
     "name": "stdout",
     "output_type": "stream",
     "text": [
      "Question: Whose technology enabled the Space Race between the Soviet Union and the united States?\n",
      "Adversarial Variations: ['1. Who developed the technology that made the Space Race possible between the Soviet Union and the United States?', '2. The Space Race between the Soviet Union and the United States was made possible by whose technological advancements?']\n",
      "Question: Who was able to launch the first orbiting satellite?\n",
      "Adversarial Variations: ['1. Which country succeeded in deploying the initial artificial satellite into orbit?', \"2. Who achieved the feat of placing the first man-made satellite in Earth's orbit?\"]\n",
      "Question: Who was the first human in space?\n",
      "Adversarial Variations: ['1. Who was the initial person to journey into space?', '2. Which individual initially traveled to outer space?']\n",
      "Question: When did Apollo 11 land on the moon?\n",
      "Adversarial Variations: ['1. On what date did the Apollo 11 spacecraft make its lunar landing?', '2. When was the moon landing of Apollo 11?']\n",
      "Question: On what date did the Space Race begin?\n",
      "Adversarial Variations: ['1. When is the starting date of the Space Race?', '2. The Space Race commenced on which date?']\n",
      "Question: Sputnik 1 started orbiting on what date?\n",
      "Adversarial Variations: ['1. On which date did Sputnik 1 commence its orbit?', '2. What is the date when Sputnik 1 began to orbit?']\n",
      "Question: Who was the first person in space?\n",
      "Adversarial Variations: ['1. Which individual initially journeyed into outer space?', '2. Who had the distinction of being the first human to venture into space?']\n",
      "Question: What was the date that the first human reached space?\n",
      "Adversarial Variations: ['1. On what date did the initial human journey into space occur?', '2. When was the occasion that a person first ventured into space?']\n",
      "Question: Where were the actual origin of the Space Race?\n",
      "Adversarial Variations: ['1. What was the genuine birthplace of the Space Race?', '2. The Space Race, where did it really begin?']\n",
      "Question: What were German aerospace engineers experimenting with in the 1930's?\n",
      "Adversarial Variations: [\"1. In the 1930's, with what were German aerospace engineers experimenting?\", '2. What experiments were being conducted by German aerospace engineers during the 1930s?']\n"
     ]
    }
   ],
   "source": [
    "adversarial_prompts_synonyms= []\n",
    "for question in ls_questions[:10]:\n",
    "    s = generate_adversarial_prompt(\"Hermes-3-Llama-3.1-70B\",question)\n",
    "    print('Question:',question)\n",
    "    print('Adversarial Variations:',s)\n",
    "    adversarial_prompts_synonyms.append(s)"
   ]
  },
  {
   "cell_type": "code",
   "execution_count": 28,
   "metadata": {},
   "outputs": [
    {
     "data": {
      "text/plain": [
       "['Whose technology enabled the Space Race between the Soviet Union and the united States?',\n",
       " 'Who was able to launch the first orbiting satellite?',\n",
       " 'Who was the first human in space?',\n",
       " 'When did Apollo 11 land on the moon?',\n",
       " 'On what date did the Space Race begin?',\n",
       " 'Sputnik 1 started orbiting on what date?',\n",
       " 'Who was the first person in space?',\n",
       " 'What was the date that the first human reached space?',\n",
       " 'Where were the actual origin of the Space Race?',\n",
       " \"What were German aerospace engineers experimenting with in the 1930's?\"]"
      ]
     },
     "execution_count": 28,
     "metadata": {},
     "output_type": "execute_result"
    }
   ],
   "source": [
    "ls_questions[:10]"
   ]
  },
  {
   "cell_type": "code",
   "execution_count": 34,
   "metadata": {},
   "outputs": [
    {
     "data": {
      "text/plain": [
       "['German rocket technology and personnel.',\n",
       " 'The captured German rocket technology and personnel enabled the Space Race between the Soviet Union and the United States.',\n",
       " 'The technology that enabled the Space Race between the Soviet Union and the United States was captured German rocket technology and personnel. This technology was crucial in advancing missile and space capabilities for both nations as part of their Cold War rivalry. The Space Race involved the launch of artificial satellites, unmanned space probes, and eventually, human spaceflight. The USSR and the US saw technological superiority in space as necessary for national security and as symbolic of their ideological superiority. The Space Race continued until the 1970s, with',\n",
       " 'German',\n",
       " \"The technology that enabled the Space Race between the Soviet Union and the United States was primarily the captured German rocket technology and personnel. This technology laid the foundation for both countries' advancement in missile-based nuclear arms race and space exploration capabilities, driving the development of artificial satellites, unmanned space probes and eventually human spaceflight. Without this vital foundation, the Space Race between these two superpowers would have been significantly delayed or possibly even prevented from occurring at all.\",\n",
       " \"The Space Race between the Soviet Union and the United States was enabled by captured German rocket technology and personnel after World War II. This technological superiority was seen as necessary for national security and ideological superiority, leading to a 20th-century competition for spaceflight capability. The race included efforts to launch artificial satellites, unmanned space probes, and human spaceflight. The Soviet Union's Sputnik 1 was first to orbit and they also sent the first human, Yuri Gagarin, to space. The\",\n",
       " 'The technology that enabled the Space Race between the Soviet Union and the United States was primarily the captured German rocket technology and personnel. This technology was a crucial factor in kickstarting the arms race between the two nations, and their competition for supremacy in spaceflight capability.',\n",
       " 'The technology that enabled the Space Race between the Soviet Union and the United States was captured German rocket technology and personnel.']"
      ]
     },
     "execution_count": 34,
     "metadata": {},
     "output_type": "execute_result"
    }
   ],
   "source": [
    "responses_main[0]\n"
   ]
  },
  {
   "cell_type": "code",
   "execution_count": 51,
   "metadata": {},
   "outputs": [],
   "source": [
    "# for i in adversarial_prompts_synonyms:\n",
    "#     i[0] = i[0].split('.')[1].strip()\n",
    "#     i[1] = i[1].split('.')[1].strip()\n",
    "#     print('--------------------------------')"
   ]
  },
  {
   "cell_type": "code",
   "execution_count": 63,
   "metadata": {},
   "outputs": [],
   "source": [
    "adversarial_prompts_synonyms_prompt_templates = []\n",
    "for i,j in enumerate(adversarial_prompts_synonyms):\n",
    "    adversarial_prompts_synonyms_prompt_templates_sub = []\n",
    "    for k in j:\n",
    "        adversarial_prompt_template = create_prompt_template_variations(ls_contexts[i],k)[0]\n",
    "        adversarial_prompts_synonyms_prompt_templates_sub.append(adversarial_prompt_template)\n",
    "    adversarial_prompts_synonyms_prompt_templates.append(adversarial_prompts_synonyms_prompt_templates_sub)\n"
   ]
  },
  {
   "cell_type": "code",
   "execution_count": 65,
   "metadata": {},
   "outputs": [
    {
     "data": {
      "text/plain": [
       "[['### Instruction:\\n        Given the following context, answer the question concisely.\\n        \\n        ### Context:\\n        The Space Race was a 20th-century competition between two Cold War rivals, the Soviet Union (USSR) and the United States (US), for supremacy in spaceflight capability. It had its origins in the missile-based nuclear arms race between the two nations that occurred following World War II, enabled by captured German rocket technology and personnel. The technological superiority required for such supremacy was seen as necessary for national security, and symbolic of ideological superiority. The Space Race spawned pioneering efforts to launch artificial satellites, unmanned space probes of the Moon, Venus, and Mars, and human spaceflight in low Earth orbit and to the Moon. The competition began on August 2, 1955, when the Soviet Union responded to the US announcement four days earlier of intent to launch artificial satellites for the International Geophysical Year, by declaring they would also launch a satellite \"in the near future\". The Soviet Union beat the US to this, with the October 4, 1957 orbiting of Sputnik 1, and later beat the US to the first human in space, Yuri Gagarin, on April 12, 1961. The Space Race peaked with the July 20, 1969 US landing of the first humans on the Moon with Apollo 11. The USSR tried but failed manned lunar missions, and eventually cancelled them and concentrated on Earth orbital space stations. A period of détente followed with the April 1972 agreement on a co-operative Apollo–Soyuz Test Project, resulting in the July 1975 rendezvous in Earth orbit of a US astronaut crew with a Soviet cosmonaut crew.\\n        \\n        ### Question:\\n        Who developed the technology that made the Space Race possible between the Soviet Union and the United States?\\n        \\n        ### Response:',\n",
       "  'Hey there! Based on the info below, can you answer this briefly?\\n        \\n        Context: The Space Race was a 20th-century competition between two Cold War rivals, the Soviet Union (USSR) and the United States (US), for supremacy in spaceflight capability. It had its origins in the missile-based nuclear arms race between the two nations that occurred following World War II, enabled by captured German rocket technology and personnel. The technological superiority required for such supremacy was seen as necessary for national security, and symbolic of ideological superiority. The Space Race spawned pioneering efforts to launch artificial satellites, unmanned space probes of the Moon, Venus, and Mars, and human spaceflight in low Earth orbit and to the Moon. The competition began on August 2, 1955, when the Soviet Union responded to the US announcement four days earlier of intent to launch artificial satellites for the International Geophysical Year, by declaring they would also launch a satellite \"in the near future\". The Soviet Union beat the US to this, with the October 4, 1957 orbiting of Sputnik 1, and later beat the US to the first human in space, Yuri Gagarin, on April 12, 1961. The Space Race peaked with the July 20, 1969 US landing of the first humans on the Moon with Apollo 11. The USSR tried but failed manned lunar missions, and eventually cancelled them and concentrated on Earth orbital space stations. A period of détente followed with the April 1972 agreement on a co-operative Apollo–Soyuz Test Project, resulting in the July 1975 rendezvous in Earth orbit of a US astronaut crew with a Soviet cosmonaut crew.\\n        \\n        Question: Who developed the technology that made the Space Race possible between the Soviet Union and the United States?\\n        \\n        Answer:',\n",
       "  'Context: The Space Race was a 20th-century competition between two Cold War rivals, the Soviet Union (USSR) and the United States (US), for supremacy in spaceflight capability. It had its origins in the missile-based nuclear arms race between the two nations that occurred following World War II, enabled by captured German rocket technology and personnel. The technological superiority required for such supremacy was seen as necessary for national security, and symbolic of ideological superiority. The Space Race spawned pioneering efforts to launch artificial satellites, unmanned space probes of the Moon, Venus, and Mars, and human spaceflight in low Earth orbit and to the Moon. The competition began on August 2, 1955, when the Soviet Union responded to the US announcement four days earlier of intent to launch artificial satellites for the International Geophysical Year, by declaring they would also launch a satellite \"in the near future\". The Soviet Union beat the US to this, with the October 4, 1957 orbiting of Sputnik 1, and later beat the US to the first human in space, Yuri Gagarin, on April 12, 1961. The Space Race peaked with the July 20, 1969 US landing of the first humans on the Moon with Apollo 11. The USSR tried but failed manned lunar missions, and eventually cancelled them and concentrated on Earth orbital space stations. A period of détente followed with the April 1972 agreement on a co-operative Apollo–Soyuz Test Project, resulting in the July 1975 rendezvous in Earth orbit of a US astronaut crew with a Soviet cosmonaut crew.\\n        \\n        Who developed the technology that made the Space Race possible between the Soviet Union and the United States?\\n        \\n        Response:',\n",
       "  '### Strict Rule: Provide only a one-word answer.\\n        \\n        Context: The Space Race was a 20th-century competition between two Cold War rivals, the Soviet Union (USSR) and the United States (US), for supremacy in spaceflight capability. It had its origins in the missile-based nuclear arms race between the two nations that occurred following World War II, enabled by captured German rocket technology and personnel. The technological superiority required for such supremacy was seen as necessary for national security, and symbolic of ideological superiority. The Space Race spawned pioneering efforts to launch artificial satellites, unmanned space probes of the Moon, Venus, and Mars, and human spaceflight in low Earth orbit and to the Moon. The competition began on August 2, 1955, when the Soviet Union responded to the US announcement four days earlier of intent to launch artificial satellites for the International Geophysical Year, by declaring they would also launch a satellite \"in the near future\". The Soviet Union beat the US to this, with the October 4, 1957 orbiting of Sputnik 1, and later beat the US to the first human in space, Yuri Gagarin, on April 12, 1961. The Space Race peaked with the July 20, 1969 US landing of the first humans on the Moon with Apollo 11. The USSR tried but failed manned lunar missions, and eventually cancelled them and concentrated on Earth orbital space stations. A period of détente followed with the April 1972 agreement on a co-operative Apollo–Soyuz Test Project, resulting in the July 1975 rendezvous in Earth orbit of a US astronaut crew with a Soviet cosmonaut crew.\\n        \\n        Question: Who developed the technology that made the Space Race possible between the Soviet Union and the United States?\\n        \\n        Answer:',\n",
       "  'Consider the provided information carefully and provide a well-thought-out response:\\n        \\n        Context: The Space Race was a 20th-century competition between two Cold War rivals, the Soviet Union (USSR) and the United States (US), for supremacy in spaceflight capability. It had its origins in the missile-based nuclear arms race between the two nations that occurred following World War II, enabled by captured German rocket technology and personnel. The technological superiority required for such supremacy was seen as necessary for national security, and symbolic of ideological superiority. The Space Race spawned pioneering efforts to launch artificial satellites, unmanned space probes of the Moon, Venus, and Mars, and human spaceflight in low Earth orbit and to the Moon. The competition began on August 2, 1955, when the Soviet Union responded to the US announcement four days earlier of intent to launch artificial satellites for the International Geophysical Year, by declaring they would also launch a satellite \"in the near future\". The Soviet Union beat the US to this, with the October 4, 1957 orbiting of Sputnik 1, and later beat the US to the first human in space, Yuri Gagarin, on April 12, 1961. The Space Race peaked with the July 20, 1969 US landing of the first humans on the Moon with Apollo 11. The USSR tried but failed manned lunar missions, and eventually cancelled them and concentrated on Earth orbital space stations. A period of détente followed with the April 1972 agreement on a co-operative Apollo–Soyuz Test Project, resulting in the July 1975 rendezvous in Earth orbit of a US astronaut crew with a Soviet cosmonaut crew.\\n        \\n        Who developed the technology that made the Space Race possible between the Soviet Union and the United States?\\n        \\n        Your Answer:',\n",
       "  'Imagine you are briefing a CEO and must summarize based on the following details:\\n        \\n        Context: The Space Race was a 20th-century competition between two Cold War rivals, the Soviet Union (USSR) and the United States (US), for supremacy in spaceflight capability. It had its origins in the missile-based nuclear arms race between the two nations that occurred following World War II, enabled by captured German rocket technology and personnel. The technological superiority required for such supremacy was seen as necessary for national security, and symbolic of ideological superiority. The Space Race spawned pioneering efforts to launch artificial satellites, unmanned space probes of the Moon, Venus, and Mars, and human spaceflight in low Earth orbit and to the Moon. The competition began on August 2, 1955, when the Soviet Union responded to the US announcement four days earlier of intent to launch artificial satellites for the International Geophysical Year, by declaring they would also launch a satellite \"in the near future\". The Soviet Union beat the US to this, with the October 4, 1957 orbiting of Sputnik 1, and later beat the US to the first human in space, Yuri Gagarin, on April 12, 1961. The Space Race peaked with the July 20, 1969 US landing of the first humans on the Moon with Apollo 11. The USSR tried but failed manned lunar missions, and eventually cancelled them and concentrated on Earth orbital space stations. A period of détente followed with the April 1972 agreement on a co-operative Apollo–Soyuz Test Project, resulting in the July 1975 rendezvous in Earth orbit of a US astronaut crew with a Soviet cosmonaut crew.\\n        \\n        Question: Who developed the technology that made the Space Race possible between the Soviet Union and the United States?\\n        \\n        Summary:',\n",
       "  'You are an expert in this field. Based on the given context, answer the following:\\n        \\n        Context: The Space Race was a 20th-century competition between two Cold War rivals, the Soviet Union (USSR) and the United States (US), for supremacy in spaceflight capability. It had its origins in the missile-based nuclear arms race between the two nations that occurred following World War II, enabled by captured German rocket technology and personnel. The technological superiority required for such supremacy was seen as necessary for national security, and symbolic of ideological superiority. The Space Race spawned pioneering efforts to launch artificial satellites, unmanned space probes of the Moon, Venus, and Mars, and human spaceflight in low Earth orbit and to the Moon. The competition began on August 2, 1955, when the Soviet Union responded to the US announcement four days earlier of intent to launch artificial satellites for the International Geophysical Year, by declaring they would also launch a satellite \"in the near future\". The Soviet Union beat the US to this, with the October 4, 1957 orbiting of Sputnik 1, and later beat the US to the first human in space, Yuri Gagarin, on April 12, 1961. The Space Race peaked with the July 20, 1969 US landing of the first humans on the Moon with Apollo 11. The USSR tried but failed manned lunar missions, and eventually cancelled them and concentrated on Earth orbital space stations. A period of détente followed with the April 1972 agreement on a co-operative Apollo–Soyuz Test Project, resulting in the July 1975 rendezvous in Earth orbit of a US astronaut crew with a Soviet cosmonaut crew.\\n        \\n        Question: Who developed the technology that made the Space Race possible between the Soviet Union and the United States?\\n        \\n        Expert Answer:',\n",
       "  '### Research-Based Inquiry:\\n        Given the latest research and the following context, answer succinctly.\\n        \\n        Context: The Space Race was a 20th-century competition between two Cold War rivals, the Soviet Union (USSR) and the United States (US), for supremacy in spaceflight capability. It had its origins in the missile-based nuclear arms race between the two nations that occurred following World War II, enabled by captured German rocket technology and personnel. The technological superiority required for such supremacy was seen as necessary for national security, and symbolic of ideological superiority. The Space Race spawned pioneering efforts to launch artificial satellites, unmanned space probes of the Moon, Venus, and Mars, and human spaceflight in low Earth orbit and to the Moon. The competition began on August 2, 1955, when the Soviet Union responded to the US announcement four days earlier of intent to launch artificial satellites for the International Geophysical Year, by declaring they would also launch a satellite \"in the near future\". The Soviet Union beat the US to this, with the October 4, 1957 orbiting of Sputnik 1, and later beat the US to the first human in space, Yuri Gagarin, on April 12, 1961. The Space Race peaked with the July 20, 1969 US landing of the first humans on the Moon with Apollo 11. The USSR tried but failed manned lunar missions, and eventually cancelled them and concentrated on Earth orbital space stations. A period of détente followed with the April 1972 agreement on a co-operative Apollo–Soyuz Test Project, resulting in the July 1975 rendezvous in Earth orbit of a US astronaut crew with a Soviet cosmonaut crew.\\n        \\n        Question: Who developed the technology that made the Space Race possible between the Soviet Union and the United States?\\n        \\n        Conclusion:'],\n",
       " ['### Instruction:\\n        Given the following context, answer the question concisely.\\n        \\n        ### Context:\\n        The Space Race was a 20th-century competition between two Cold War rivals, the Soviet Union (USSR) and the United States (US), for supremacy in spaceflight capability. It had its origins in the missile-based nuclear arms race between the two nations that occurred following World War II, enabled by captured German rocket technology and personnel. The technological superiority required for such supremacy was seen as necessary for national security, and symbolic of ideological superiority. The Space Race spawned pioneering efforts to launch artificial satellites, unmanned space probes of the Moon, Venus, and Mars, and human spaceflight in low Earth orbit and to the Moon. The competition began on August 2, 1955, when the Soviet Union responded to the US announcement four days earlier of intent to launch artificial satellites for the International Geophysical Year, by declaring they would also launch a satellite \"in the near future\". The Soviet Union beat the US to this, with the October 4, 1957 orbiting of Sputnik 1, and later beat the US to the first human in space, Yuri Gagarin, on April 12, 1961. The Space Race peaked with the July 20, 1969 US landing of the first humans on the Moon with Apollo 11. The USSR tried but failed manned lunar missions, and eventually cancelled them and concentrated on Earth orbital space stations. A period of détente followed with the April 1972 agreement on a co-operative Apollo–Soyuz Test Project, resulting in the July 1975 rendezvous in Earth orbit of a US astronaut crew with a Soviet cosmonaut crew.\\n        \\n        ### Question:\\n        The Space Race between the Soviet Union and the United States was made possible by whose technological advancements?\\n        \\n        ### Response:',\n",
       "  'Hey there! Based on the info below, can you answer this briefly?\\n        \\n        Context: The Space Race was a 20th-century competition between two Cold War rivals, the Soviet Union (USSR) and the United States (US), for supremacy in spaceflight capability. It had its origins in the missile-based nuclear arms race between the two nations that occurred following World War II, enabled by captured German rocket technology and personnel. The technological superiority required for such supremacy was seen as necessary for national security, and symbolic of ideological superiority. The Space Race spawned pioneering efforts to launch artificial satellites, unmanned space probes of the Moon, Venus, and Mars, and human spaceflight in low Earth orbit and to the Moon. The competition began on August 2, 1955, when the Soviet Union responded to the US announcement four days earlier of intent to launch artificial satellites for the International Geophysical Year, by declaring they would also launch a satellite \"in the near future\". The Soviet Union beat the US to this, with the October 4, 1957 orbiting of Sputnik 1, and later beat the US to the first human in space, Yuri Gagarin, on April 12, 1961. The Space Race peaked with the July 20, 1969 US landing of the first humans on the Moon with Apollo 11. The USSR tried but failed manned lunar missions, and eventually cancelled them and concentrated on Earth orbital space stations. A period of détente followed with the April 1972 agreement on a co-operative Apollo–Soyuz Test Project, resulting in the July 1975 rendezvous in Earth orbit of a US astronaut crew with a Soviet cosmonaut crew.\\n        \\n        Question: The Space Race between the Soviet Union and the United States was made possible by whose technological advancements?\\n        \\n        Answer:',\n",
       "  'Context: The Space Race was a 20th-century competition between two Cold War rivals, the Soviet Union (USSR) and the United States (US), for supremacy in spaceflight capability. It had its origins in the missile-based nuclear arms race between the two nations that occurred following World War II, enabled by captured German rocket technology and personnel. The technological superiority required for such supremacy was seen as necessary for national security, and symbolic of ideological superiority. The Space Race spawned pioneering efforts to launch artificial satellites, unmanned space probes of the Moon, Venus, and Mars, and human spaceflight in low Earth orbit and to the Moon. The competition began on August 2, 1955, when the Soviet Union responded to the US announcement four days earlier of intent to launch artificial satellites for the International Geophysical Year, by declaring they would also launch a satellite \"in the near future\". The Soviet Union beat the US to this, with the October 4, 1957 orbiting of Sputnik 1, and later beat the US to the first human in space, Yuri Gagarin, on April 12, 1961. The Space Race peaked with the July 20, 1969 US landing of the first humans on the Moon with Apollo 11. The USSR tried but failed manned lunar missions, and eventually cancelled them and concentrated on Earth orbital space stations. A period of détente followed with the April 1972 agreement on a co-operative Apollo–Soyuz Test Project, resulting in the July 1975 rendezvous in Earth orbit of a US astronaut crew with a Soviet cosmonaut crew.\\n        \\n        The Space Race between the Soviet Union and the United States was made possible by whose technological advancements?\\n        \\n        Response:',\n",
       "  '### Strict Rule: Provide only a one-word answer.\\n        \\n        Context: The Space Race was a 20th-century competition between two Cold War rivals, the Soviet Union (USSR) and the United States (US), for supremacy in spaceflight capability. It had its origins in the missile-based nuclear arms race between the two nations that occurred following World War II, enabled by captured German rocket technology and personnel. The technological superiority required for such supremacy was seen as necessary for national security, and symbolic of ideological superiority. The Space Race spawned pioneering efforts to launch artificial satellites, unmanned space probes of the Moon, Venus, and Mars, and human spaceflight in low Earth orbit and to the Moon. The competition began on August 2, 1955, when the Soviet Union responded to the US announcement four days earlier of intent to launch artificial satellites for the International Geophysical Year, by declaring they would also launch a satellite \"in the near future\". The Soviet Union beat the US to this, with the October 4, 1957 orbiting of Sputnik 1, and later beat the US to the first human in space, Yuri Gagarin, on April 12, 1961. The Space Race peaked with the July 20, 1969 US landing of the first humans on the Moon with Apollo 11. The USSR tried but failed manned lunar missions, and eventually cancelled them and concentrated on Earth orbital space stations. A period of détente followed with the April 1972 agreement on a co-operative Apollo–Soyuz Test Project, resulting in the July 1975 rendezvous in Earth orbit of a US astronaut crew with a Soviet cosmonaut crew.\\n        \\n        Question: The Space Race between the Soviet Union and the United States was made possible by whose technological advancements?\\n        \\n        Answer:',\n",
       "  'Consider the provided information carefully and provide a well-thought-out response:\\n        \\n        Context: The Space Race was a 20th-century competition between two Cold War rivals, the Soviet Union (USSR) and the United States (US), for supremacy in spaceflight capability. It had its origins in the missile-based nuclear arms race between the two nations that occurred following World War II, enabled by captured German rocket technology and personnel. The technological superiority required for such supremacy was seen as necessary for national security, and symbolic of ideological superiority. The Space Race spawned pioneering efforts to launch artificial satellites, unmanned space probes of the Moon, Venus, and Mars, and human spaceflight in low Earth orbit and to the Moon. The competition began on August 2, 1955, when the Soviet Union responded to the US announcement four days earlier of intent to launch artificial satellites for the International Geophysical Year, by declaring they would also launch a satellite \"in the near future\". The Soviet Union beat the US to this, with the October 4, 1957 orbiting of Sputnik 1, and later beat the US to the first human in space, Yuri Gagarin, on April 12, 1961. The Space Race peaked with the July 20, 1969 US landing of the first humans on the Moon with Apollo 11. The USSR tried but failed manned lunar missions, and eventually cancelled them and concentrated on Earth orbital space stations. A period of détente followed with the April 1972 agreement on a co-operative Apollo–Soyuz Test Project, resulting in the July 1975 rendezvous in Earth orbit of a US astronaut crew with a Soviet cosmonaut crew.\\n        \\n        The Space Race between the Soviet Union and the United States was made possible by whose technological advancements?\\n        \\n        Your Answer:',\n",
       "  'Imagine you are briefing a CEO and must summarize based on the following details:\\n        \\n        Context: The Space Race was a 20th-century competition between two Cold War rivals, the Soviet Union (USSR) and the United States (US), for supremacy in spaceflight capability. It had its origins in the missile-based nuclear arms race between the two nations that occurred following World War II, enabled by captured German rocket technology and personnel. The technological superiority required for such supremacy was seen as necessary for national security, and symbolic of ideological superiority. The Space Race spawned pioneering efforts to launch artificial satellites, unmanned space probes of the Moon, Venus, and Mars, and human spaceflight in low Earth orbit and to the Moon. The competition began on August 2, 1955, when the Soviet Union responded to the US announcement four days earlier of intent to launch artificial satellites for the International Geophysical Year, by declaring they would also launch a satellite \"in the near future\". The Soviet Union beat the US to this, with the October 4, 1957 orbiting of Sputnik 1, and later beat the US to the first human in space, Yuri Gagarin, on April 12, 1961. The Space Race peaked with the July 20, 1969 US landing of the first humans on the Moon with Apollo 11. The USSR tried but failed manned lunar missions, and eventually cancelled them and concentrated on Earth orbital space stations. A period of détente followed with the April 1972 agreement on a co-operative Apollo–Soyuz Test Project, resulting in the July 1975 rendezvous in Earth orbit of a US astronaut crew with a Soviet cosmonaut crew.\\n        \\n        Question: The Space Race between the Soviet Union and the United States was made possible by whose technological advancements?\\n        \\n        Summary:',\n",
       "  'You are an expert in this field. Based on the given context, answer the following:\\n        \\n        Context: The Space Race was a 20th-century competition between two Cold War rivals, the Soviet Union (USSR) and the United States (US), for supremacy in spaceflight capability. It had its origins in the missile-based nuclear arms race between the two nations that occurred following World War II, enabled by captured German rocket technology and personnel. The technological superiority required for such supremacy was seen as necessary for national security, and symbolic of ideological superiority. The Space Race spawned pioneering efforts to launch artificial satellites, unmanned space probes of the Moon, Venus, and Mars, and human spaceflight in low Earth orbit and to the Moon. The competition began on August 2, 1955, when the Soviet Union responded to the US announcement four days earlier of intent to launch artificial satellites for the International Geophysical Year, by declaring they would also launch a satellite \"in the near future\". The Soviet Union beat the US to this, with the October 4, 1957 orbiting of Sputnik 1, and later beat the US to the first human in space, Yuri Gagarin, on April 12, 1961. The Space Race peaked with the July 20, 1969 US landing of the first humans on the Moon with Apollo 11. The USSR tried but failed manned lunar missions, and eventually cancelled them and concentrated on Earth orbital space stations. A period of détente followed with the April 1972 agreement on a co-operative Apollo–Soyuz Test Project, resulting in the July 1975 rendezvous in Earth orbit of a US astronaut crew with a Soviet cosmonaut crew.\\n        \\n        Question: The Space Race between the Soviet Union and the United States was made possible by whose technological advancements?\\n        \\n        Expert Answer:',\n",
       "  '### Research-Based Inquiry:\\n        Given the latest research and the following context, answer succinctly.\\n        \\n        Context: The Space Race was a 20th-century competition between two Cold War rivals, the Soviet Union (USSR) and the United States (US), for supremacy in spaceflight capability. It had its origins in the missile-based nuclear arms race between the two nations that occurred following World War II, enabled by captured German rocket technology and personnel. The technological superiority required for such supremacy was seen as necessary for national security, and symbolic of ideological superiority. The Space Race spawned pioneering efforts to launch artificial satellites, unmanned space probes of the Moon, Venus, and Mars, and human spaceflight in low Earth orbit and to the Moon. The competition began on August 2, 1955, when the Soviet Union responded to the US announcement four days earlier of intent to launch artificial satellites for the International Geophysical Year, by declaring they would also launch a satellite \"in the near future\". The Soviet Union beat the US to this, with the October 4, 1957 orbiting of Sputnik 1, and later beat the US to the first human in space, Yuri Gagarin, on April 12, 1961. The Space Race peaked with the July 20, 1969 US landing of the first humans on the Moon with Apollo 11. The USSR tried but failed manned lunar missions, and eventually cancelled them and concentrated on Earth orbital space stations. A period of détente followed with the April 1972 agreement on a co-operative Apollo–Soyuz Test Project, resulting in the July 1975 rendezvous in Earth orbit of a US astronaut crew with a Soviet cosmonaut crew.\\n        \\n        Question: The Space Race between the Soviet Union and the United States was made possible by whose technological advancements?\\n        \\n        Conclusion:']]"
      ]
     },
     "execution_count": 65,
     "metadata": {},
     "output_type": "execute_result"
    }
   ],
   "source": [
    "adversarial_prompts_synonyms_prompt_templates[0]"
   ]
  },
  {
   "cell_type": "code",
   "execution_count": 90,
   "metadata": {},
   "outputs": [
    {
     "ename": "IndexError",
     "evalue": "list index out of range",
     "output_type": "error",
     "traceback": [
      "\u001b[1;31m---------------------------------------------------------------------------\u001b[0m",
      "\u001b[1;31mIndexError\u001b[0m                                Traceback (most recent call last)",
      "Cell \u001b[1;32mIn [90], line 2\u001b[0m\n\u001b[0;32m      1\u001b[0m \u001b[38;5;66;03m# adversarial_prompts_synonyms_prompt_templates_responses = []\u001b[39;00m\n\u001b[1;32m----> 2\u001b[0m \u001b[38;5;28;01mfor\u001b[39;00m i \u001b[38;5;129;01min\u001b[39;00m \u001b[43madversarial_prompts_synonyms_prompt_templates\u001b[49m\u001b[43m[\u001b[49m\u001b[38;5;241;43m10\u001b[39;49m\u001b[43m]\u001b[49m:\n\u001b[0;32m      3\u001b[0m     adversarial_prompts_synonyms_prompt_templates_responses_sub \u001b[38;5;241m=\u001b[39m []\n\u001b[0;32m      4\u001b[0m     \u001b[38;5;28;01mfor\u001b[39;00m j \u001b[38;5;129;01min\u001b[39;00m i:\n\u001b[0;32m      5\u001b[0m         \u001b[38;5;66;03m# print('prompt template: ',j)\u001b[39;00m\n",
      "\u001b[1;31mIndexError\u001b[0m: list index out of range"
     ]
    }
   ],
   "source": [
    "# adversarial_prompts_synonyms_prompt_templates_responses = []\n",
    "for i in adversarial_prompts_synonyms_prompt_templates[9]:\n",
    "    adversarial_prompts_synonyms_prompt_templates_responses_sub = []\n",
    "    for j in i:\n",
    "        # print('prompt template: ',j)\n",
    "        response = get_response_from_model(\"Hermes-3-Llama-3.1-8B\",j)\n",
    "        # print('response: ',response)\n",
    "        # print('--------------------------------')\n",
    "        adversarial_prompts_synonyms_prompt_templates_responses_sub.append(response)\n",
    "    adversarial_prompts_synonyms_prompt_templates_responses.append(adversarial_prompts_synonyms_prompt_templates_responses_sub)\n",
    "\n",
    "\n"
   ]
  },
  {
   "cell_type": "code",
   "execution_count": 133,
   "metadata": {},
   "outputs": [],
   "source": [
    "# Clean responses by splitting on '<' and keeping first part\n",
    "adversarial_prompts_synonyms_prompt_templates_responses = [\n",
    "    [response.split('<')[0] for response in response_group] \n",
    "    for response_group in adversarial_prompts_synonyms_prompt_templates_responses\n",
    "]\n"
   ]
  },
  {
   "cell_type": "code",
   "execution_count": 135,
   "metadata": {},
   "outputs": [],
   "source": [
    "temp = [adversarial_prompts_synonyms_prompt_templates_responses[i:i+2] for i in range(0, len(adversarial_prompts_synonyms_prompt_templates_responses), 2)]\n"
   ]
  },
  {
   "cell_type": "code",
   "execution_count": 146,
   "metadata": {},
   "outputs": [
    {
     "data": {
      "text/plain": [
       "['The technology that made the Space Race possible was developed based on captured German rocket technology and personnel following World War II.',\n",
       " 'The captured German rocket technology and personnel from World War II played a significant role in developing the technology that made the Space Race possible between the Soviet Union and the United States.',\n",
       " 'The technology for the Space Race was developed by a combination of efforts from both the Soviet Union and the United States, with a significant contribution from captured German rocket technology and personnel after World War II. This included the work of Werner von Braun and his team, who played a key role in developing rocket technology for both the US and Soviet programs. Each side also developed their own unique technological innovations and advancements as the race progressed.',\n",
       " 'Germany',\n",
       " 'The technology that made the Space Race possible was developed primarily by the German Rocket Society during World War II. After the war, the Soviet Union and the United States acquired German rocket technology and personnel, which they used to further develop their respective space programs. The Soviet Union took a lead in early space exploration, but the United States eventually surpassed them with the Apollo program, which landed humans on the Moon. The competition between the two nations in space exploration was driven by their desire to demonstrate technological superiority',\n",
       " \"The origins of the Space Race can be traced back to the Cold War and the nuclear arms race between the Soviet Union and the United States. This rivalry led to a technological arms race in space exploration and enabled pioneering efforts such as launching artificial satellites, unmanned space probes, and human spaceflight. The technology used during the Space Race was based on the captured German rocket technology and personnel, which became the foundation for both countries' space programs. The competition between the Soviet Union and the United States continued until the\",\n",
       " \"The technology that made the Space Race possible between the Soviet Union and the United States was developed from the captured German rocket technology and personnel after World War II. Germany's expertise in rocket science and propulsion technology, primarily through the work done at Peenemünde Army Research Center under the leadership of Werner von Braun, laid the foundation for the advancements made by both superpowers. The Americans captured Werner von Braun and his team, while the Soviets gained access to rocket scientists and technology through the Potsdam Agreement\",\n",
       " 'The technology that made the Space Race possible was developed partly by the Soviet Union and partly by the United States. Both nations benefited from captured German rocket technology and personnel, which were key enablers of their space programs. This included personnel like Wernher von Braun and technology like the V-2 rocket. While both Soviet and US programs were distinct and driven by their own priorities, the Nazi rocket technology helped lay the groundwork for their ultimate competition in the Space Race.']"
      ]
     },
     "execution_count": 146,
     "metadata": {},
     "output_type": "execute_result"
    }
   ],
   "source": [
    "temp[0][0]"
   ]
  },
  {
   "cell_type": "code",
   "execution_count": 137,
   "metadata": {},
   "outputs": [
    {
     "data": {
      "text/plain": [
       "[[0.6697271099048001, 0.643263408115932],\n",
       " [0.582097675784358, 0.7956273406744003],\n",
       " [0.7248390114733151, 0.7323854927505765],\n",
       " [0.6968378286276545, 0.6412665748170444],\n",
       " [0.7010966571313995, 0.6971715156521116],\n",
       " [0.6477386403296675, 0.5851759144238063],\n",
       " [0.6991329097322055, 0.7716924494930676],\n",
       " [0.6614229551383427, 0.5050222996422755],\n",
       " [0.7136419372899192, 0.7134869918227196],\n",
       " [0.6963605135679245, 0.7253155671060085]]"
      ]
     },
     "execution_count": 137,
     "metadata": {},
     "output_type": "execute_result"
    }
   ],
   "source": [
    "similarity_scores_synonyms = []\n",
    "for i in temp:\n",
    "    similarity_scores_synonyms_sub = []\n",
    "    for j in i:\n",
    "        score = calculate_semantic_similarity(j)\n",
    "        similarity_scores_synonyms_sub.append(score)\n",
    "    similarity_scores_synonyms.append(similarity_scores_synonyms_sub)\n",
    "\n",
    "similarity_scores_synonyms\n"
   ]
  },
  {
   "cell_type": "code",
   "execution_count": 139,
   "metadata": {},
   "outputs": [],
   "source": [
    "# Separate similarity scores into two lists\n",
    "similarity_scores_synonyms_1 = [scores[0] for scores in similarity_scores_synonyms]\n",
    "similarity_scores_synonyms_2 = [scores[1] for scores in similarity_scores_synonyms]\n"
   ]
  },
  {
   "cell_type": "code",
   "execution_count": 140,
   "metadata": {},
   "outputs": [
    {
     "data": {
      "text/plain": [
       "[0.6697271099048001,\n",
       " 0.582097675784358,\n",
       " 0.7248390114733151,\n",
       " 0.6968378286276545,\n",
       " 0.7010966571313995,\n",
       " 0.6477386403296675,\n",
       " 0.6991329097322055,\n",
       " 0.6614229551383427,\n",
       " 0.7136419372899192,\n",
       " 0.6963605135679245]"
      ]
     },
     "execution_count": 140,
     "metadata": {},
     "output_type": "execute_result"
    }
   ],
   "source": [
    "similarity_scores_synonyms_1"
   ]
  },
  {
   "cell_type": "code",
   "execution_count": 329,
   "metadata": {},
   "outputs": [
    {
     "data": {
      "text/plain": [
       "[0.6564952590103661,\n",
       " 0.6888625082293791,\n",
       " 0.7286122521119458,\n",
       " 0.6690522017223495,\n",
       " 0.6991340863917554,\n",
       " 0.616457277376737,\n",
       " 0.7354126796126366,\n",
       " 0.5832226273903092,\n",
       " 0.7135644645563194,\n",
       " 0.7108380403369665]"
      ]
     },
     "execution_count": 329,
     "metadata": {},
     "output_type": "execute_result"
    }
   ],
   "source": [
    "similarity_scores_synonyms = [sum(i)/len(i) for i in similarity_scores_synonyms]\n",
    "similarity_scores_synonyms\n"
   ]
  },
  {
   "cell_type": "code",
   "execution_count": 339,
   "metadata": {},
   "outputs": [],
   "source": [
    "pdr_results_synonyms = compute_pdr_from_similarity(similarity_scores_main, similarity_scores_synonyms)\n"
   ]
  },
  {
   "cell_type": "code",
   "execution_count": 366,
   "metadata": {},
   "outputs": [],
   "source": [
    "pdr_results_synonyms_pdr_only = [i['PDR'] for i in pdr_results_synonyms]\n"
   ]
  },
  {
   "cell_type": "code",
   "execution_count": 367,
   "metadata": {},
   "outputs": [
    {
     "data": {
      "text/plain": [
       "[0.02020202020202022,\n",
       " -0.13793103448275867,\n",
       " -0.043010752688172005,\n",
       " -0.1812499999999999,\n",
       " -0.18749999999999978,\n",
       " 0.021052631578947434,\n",
       " -0.22499999999999987,\n",
       " -0.021052631578947434,\n",
       " -0.03684210526315801,\n",
       " 0.010526315789473717]"
      ]
     },
     "execution_count": 367,
     "metadata": {},
     "output_type": "execute_result"
    }
   ],
   "source": [
    "pdr_results_synonyms_pdr_only"
   ]
  },
  {
   "cell_type": "code",
   "execution_count": 216,
   "metadata": {},
   "outputs": [],
   "source": [
    "def llm_similarity_judge(sentences):\n",
    "    \"\"\"\n",
    "    Use LLM to judge similarity between a group of sentences\n",
    "    \n",
    "    Args:\n",
    "        sentences (list): List of sentences to compare\n",
    "        \n",
    "    Returns:\n",
    "        float: Similarity score between 0 and 1\n",
    "    \"\"\"\n",
    "    # Create prompt template\n",
    "    prompt = f\"\"\"\n",
    "    IMPORTANT: You must respond with ONLY a value between 0.01 and 0.99 enclosed in ###.\n",
    "    Do not include any additional text, explanation or formatting.\n",
    "    Just output the raw number\n",
    "\n",
    "    On a scale of 0 to 1, where 1 means identical meaning and 0 means completely different,\n",
    "    rate how semantically similar these sentences are:\n",
    "    \n",
    "    {sentences}\n",
    "    \n",
    "    \n",
    "    \"\"\"\n",
    "    \n",
    "    # Call LLM API and get response\n",
    "    try:\n",
    "        response = client.completions.create(\n",
    "        model=\"Hermes-3-Llama-3.1-8B\",\n",
    "        prompt=prompt,\n",
    "        max_completion_tokens=5\n",
    "    )   \n",
    "        \n",
    "        # Extract score from response\n",
    "        # score = float(response['choices'][0]['message']['content'].strip())\n",
    "        \n",
    "        # Ensure score is between 0 and 1\n",
    "        # score = max(0, min(1, score))\n",
    "        \n",
    "        return response['choices'][0]['text']\n",
    "        \n",
    "    except Exception as e:\n",
    "        print(f\"Error getting LLM response: {e}\")\n",
    "        return None\n"
   ]
  },
  {
   "cell_type": "code",
   "execution_count": 221,
   "metadata": {},
   "outputs": [],
   "source": [
    "r = llm_similarity_judge(responses_all[8])"
   ]
  },
  {
   "cell_type": "code",
   "execution_count": 222,
   "metadata": {},
   "outputs": [
    {
     "data": {
      "text/plain": [
       "' ###0.8###<|end_of_text|>://www.history.com/topics/world-history/modern-pace-race\\n<|end_of_text|>://www.smithsonianmag.com/history/humanities/how-germany-space-race-1925-180964440/\\n     ###0.8###\\n\\n\\n<|end_of_text|>://en.wikipedia.org/wiki/Space_Race\\n     ###0.6###<|end_of_text|>://en.wikipedia.org/wiki/V-2_rocke\\n     ###0.7###\\n\\n\\nThe 0.5'"
      ]
     },
     "execution_count": 222,
     "metadata": {},
     "output_type": "execute_result"
    }
   ],
   "source": [
    "r"
   ]
  },
  {
   "cell_type": "code",
   "execution_count": 218,
   "metadata": {},
   "outputs": [
    {
     "data": {
      "text/plain": [
       "'####### 0.96 #######'"
      ]
     },
     "execution_count": 218,
     "metadata": {},
     "output_type": "execute_result"
    }
   ],
   "source": [
    "r.split('\\n')[0].strip()"
   ]
  },
  {
   "cell_type": "code",
   "execution_count": 197,
   "metadata": {},
   "outputs": [],
   "source": [
    "llms_similarity_scores = []\n",
    "for i in temp:\n",
    "    llms_similarity_scores_sub = []\n",
    "    for j in i:\n",
    "        res = llm_similarity_judge(j).split('\\n')[0].strip()\n",
    "        res = res.split('<')[0].strip()\n",
    "        llms_similarity_scores_sub.append(float(res))\n",
    "    llms_similarity_scores.append(llms_similarity_scores_sub)\n"
   ]
  },
  {
   "cell_type": "code",
   "execution_count": 225,
   "metadata": {},
   "outputs": [],
   "source": [
    "llms_similarity_scores_synonyms = llms_similarity_scores"
   ]
  },
  {
   "cell_type": "code",
   "execution_count": 348,
   "metadata": {},
   "outputs": [
    {
     "data": {
      "text/plain": [
       "[['The technology that enabled the Space Race between the Soviet Union and the United States came from captured German rocket technology and personnel following World War II.',\n",
       "  'The technology that enabled the Space Race between the Soviet Union and the United States was the captured German rocket technology and personnel. After World War II, both the USSR and the US obtained this technology to advance their space programs.',\n",
       "  'The technological superiority required for national security, and symbolic of ideological superiority. The Space Race began on August 2, 1955, when the Soviet Union responded to the US announcement four days earlier of intent to launch artificial satellites for the International Geophysical Year, by declaring they would also launch a satellite \"in the near future\". The Space Race was enabled by captured German rocket technology and personnel.',\n",
       "  'German',\n",
       "  'The technology that enabled the Space Race between the Soviet Union and the United States was primarily enabled by the captured German rocket technology and personnel after World War II. This technology served as the foundation for the development of missile-based nuclear arms and space exploration capabilities for both countries. The race for supremacy in space was fueled by the need for national security and symbolic representation of ideological superiority. The technological advances made during the Space Race include launching artificial satellites, unmanned space probes, and human spaceflight in low Earth orbit and',\n",
       "  'The Space Race between the Soviet Union and the United States was enabled by captured German rocket technology and personnel following World War II. This technological superiority was seen as necessary for national security and symbolized ideological superiority. The competition began in 1955 and involved launching artificial satellites, unmanned space probes, and human spaceflight. The Soviet Union was first to orbit a satellite with Sputnik 1 in 1957 and first to send a human to space with Yuri Gagarin in 1961.',\n",
       "  'The technology that enabled the Space Race between the Soviet Union and the United States was largely derived from captured German rocket technology and personnel. After World War II, both the Soviet Union and the United States acquired German rocket technology, which was crucial for their respective space programs. This technology provided the foundation for the development of missiles and spacecraft that ultimately propelled the two nations into the race for space supremacy during the Cold War. The expertise and knowledge gained from this technology allowed both countries to make significant advancements in space exploration',\n",
       "  'The technology that enabled the Space Race between the Soviet Union and the United States was the missile-based nuclear arms race that occurred following World War II, enabled by captured German rocket technology and personnel. This race for technological superiority was deemed necessary for national security and symbolized ideological superiority. The competition spanned from the launch of artificial satellites, unmanned space probes to human spaceflight, culminating in the Apollo 11 Moon landing. (Research-based inquiry) [3] [5] [8] [10'],\n",
       " ['Captured German rocket technology and personnel enabled the Space Race between the Soviet Union and the United States.',\n",
       "  'The technology that enabled the Space Race between the Soviet Union and the United States was captured German rocket technology and personnel. This technology was a key factor in enabling the nuclear arms race between the two countries, which led to the development of spaceflight capability. The competition for technological superiority and national security drove the Space Race, with both countries striving to demonstrate their ideological supremacy through achievements in space exploration and satellite launches. As a result, the Space Race saw significant advancements in space probes, artificial satellites, and human',\n",
       "  'The technology that enabled the Space Race between the Soviet Union and the United States was captured German rocket technology and personnel. This technology was used to create missile-based nuclear arms and eventually enabled the development of space flight capability. It was seen as necessary for national security and symbolic of ideological superiority, which led to the intense competition and rivalry known as the Space Race. Both the Soviet Union and the United States invested heavily in research and development, and made pioneering efforts in launching artificial satellites, unmanned space probes',\n",
       "  'Germanrocket.',\n",
       "  'The technology that enabled the Space Race between the Soviet Union and the United States was the missile-based nuclear arms race that occurred following World War II, enabled by captured German rocket technology and personnel. This technological superiority was seen as necessary for national security and symbolic of ideological superiority. As a result, both countries invested heavily in developing their space programs, leading to the competition for supremacy in spaceflight capability. This resulted in advancements in artificial satellites, unmanned space probes, and human spaceflight. The Space Race was',\n",
       "  'The Space Race between the Soviet Union and the United States was enabled by captured German rocket technology and personnel following World War II. This technology provided the basis for missile-based nuclear arms race between the two nations, which led to their pursuit of technological superiority and competitiveness in spaceflight capability.',\n",
       "  \"The technology that enabled the Space Race between the Soviet Union and the United States was primarily the captured German rocket technology and personnel that emerged after World War II. This rocket technology, notably derived from the V-2 rocket developed by Wernher von Braun and his team of scientists, played a significant role in developing both countries' space programs and provided the foundation for their respective pursuits in the Space Race. The technological superiority required for space supremacy was seen as essential for national security and symbolic of ideological superiority,\",\n",
       "  \"The technology that enabled the Space Race between the Soviet Union and the United States was captured German rocket technology and personnel. This technology facilitated both countries' efforts to launch artificial satellites, unmanned space probes, and human spaceflight during the competition for space supremacy. (J. Puzio)\"],\n",
       " ['The technology that enabled the Space Race was enabled by captured German rocket technology and personnel.',\n",
       "  'German rocket technology and personnel.',\n",
       "  'The technology that enabled the Space Race between the Soviet Union and the United States was captured German rocket technology and personnel. This allowed both countries to develop and advance their own space programs, as they competed for supremacy in spaceflight capability during the Cold War. The technological superiority required for such supremacy was seen as necessary for national security and symbolic of ideological superiority, leading to the intense competition known as the Space Race.',\n",
       "  'Germany',\n",
       "  'The technology that enabled the Space Race between the Soviet Union and the United States was largely based on captured German rocket technology and personnel from World War II. This technology formed the basis for the launch vehicles and rocket engines used by both the USSR and the US in their respective space programs. The space race was fueled by the need for technological superiority and national security, symbolizing ideological supremacy as well. It resulted in numerous milestones, such as the first artificial satellite, the first human in space, and the first',\n",
       "  'The Space Race between the Soviet Union and the United States was enabled by captured German rocket technology and personnel following World War II. This technological superiority was seen as necessary for national security and symbolic of ideological superiority, leading to pioneering efforts in artificial satellites, unmanned space probes, and human spaceflight. The competition began with the launch of Sputnik 1 by the Soviet Union, and peaked with the Moon landing by Apollo 11 from the US. This ultimately led to a period of détente and a',\n",
       "  'The technology that enabled the Space Race between the Soviet Union and the United States was primarily based on captured German rocket technology and personnel after World War II. This knowledge, along with advancements in rocket engineering and missile technology, helped both countries to develop their space programs and compete against each other during the Cold War era. The innovations and discoveries made during the Space Race led to significant advancements in satellite technology, space probes, and human spaceflight. The race also symbolized the competition for national security and ideological superiority',\n",
       "  'The technological foundation that enabled the Space Race between the Soviet Union and the United States was primarily based on captured German rocket technology and personnel from World War II. This technology set the stage for the development of missile-based nuclear arms and the eventual race to explore and achieve supremacy in spaceflight capability. Both nations were driven by the perceived necessity for national security and ideological superiority, which led to a competitive atmosphere and pioneering efforts in the fields of satellite launches, space probes, and human spaceflight, culminating in']]"
      ]
     },
     "execution_count": 348,
     "metadata": {},
     "output_type": "execute_result"
    }
   ],
   "source": [
    "split_responses[0]"
   ]
  },
  {
   "cell_type": "code",
   "execution_count": 349,
   "metadata": {},
   "outputs": [
    {
     "ename": "ValueError",
     "evalue": "could not convert string to float: '#\\n 0.80'",
     "output_type": "error",
     "traceback": [
      "\u001b[1;31m---------------------------------------------------------------------------\u001b[0m",
      "\u001b[1;31mValueError\u001b[0m                                Traceback (most recent call last)",
      "Cell \u001b[1;32mIn [349], line 10\u001b[0m\n\u001b[0;32m      8\u001b[0m     \u001b[38;5;28;01mif\u001b[39;00m start \u001b[38;5;241m!=\u001b[39m \u001b[38;5;241m-\u001b[39m\u001b[38;5;241m1\u001b[39m \u001b[38;5;129;01mand\u001b[39;00m end \u001b[38;5;241m!=\u001b[39m \u001b[38;5;241m-\u001b[39m\u001b[38;5;241m1\u001b[39m:\n\u001b[0;32m      9\u001b[0m         value \u001b[38;5;241m=\u001b[39m res[start:end]\u001b[38;5;241m.\u001b[39mstrip()\n\u001b[1;32m---> 10\u001b[0m         llms_similarity_scores_letter_changes_sub\u001b[38;5;241m.\u001b[39mappend(\u001b[38;5;28;43mfloat\u001b[39;49m\u001b[43m(\u001b[49m\u001b[43mvalue\u001b[49m\u001b[43m)\u001b[49m)\n\u001b[0;32m     11\u001b[0m llms_similarity_scores_letter_changes\u001b[38;5;241m.\u001b[39mappend(llms_similarity_scores_letter_changes_sub)\n",
      "\u001b[1;31mValueError\u001b[0m: could not convert string to float: '#\\n 0.80'"
     ]
    }
   ],
   "source": [
    "llms_similarity_scores_letter_changes = []\n",
    "for i in split_responses:\n",
    "    llms_similarity_scores_letter_changes_sub = []\n",
    "    for j in i:\n",
    "        res = llm_similarity_judge(j)\n",
    "        start = res.find('###') + 3\n",
    "        end = res.find('###', start)\n",
    "        if start != -1 and end != -1:\n",
    "            value = res[start:end].strip()\n",
    "            llms_similarity_scores_letter_changes_sub.append(float(value))\n",
    "    llms_similarity_scores_letter_changes.append(llms_similarity_scores_letter_changes_sub)\n",
    "\n"
   ]
  },
  {
   "cell_type": "code",
   "execution_count": 237,
   "metadata": {},
   "outputs": [
    {
     "name": "stdout",
     "output_type": "stream",
     "text": [
      "0.99\n",
      "--------------------------------\n",
      "0.87\n",
      "--------------------------------\n",
      "0.93\n",
      "--------------------------------\n",
      "0.8\n",
      "--------------------------------\n",
      "0.8\n",
      "--------------------------------\n",
      "0.95\n",
      "--------------------------------\n",
      "0.8\n",
      "--------------------------------\n",
      "0.95\n",
      "--------------------------------\n",
      "0.95\n",
      "--------------------------------\n",
      "0.95\n",
      "--------------------------------\n"
     ]
    }
   ],
   "source": [
    "for i in responses_main:\n",
    "    res = llm_similarity_judge(i)\n",
    "    start = res.find('###') + 3\n",
    "    end = res.find('###', start)\n",
    "    if start != -1 and end != -1:\n",
    "        value = res[start:end].strip()\n",
    "        print(value)\n",
    "    print('--------------------------------')\n"
   ]
  },
  {
   "cell_type": "code",
   "execution_count": 350,
   "metadata": {},
   "outputs": [],
   "source": [
    "llms_similarity_scores_letter_changes = [0.99, 0.98, 0.99, 0.95, 0.99, 0.95, 0.97, 1.0, 0.8, 0.91]"
   ]
  },
  {
   "cell_type": "code",
   "execution_count": 226,
   "metadata": {},
   "outputs": [],
   "source": [
    "llms_similarity_scores_synonyms_1 = [x[0] for x in llms_similarity_scores_synonyms]\n",
    "llms_similarity_scores_synonyms_2 = [x[1] for x in llms_similarity_scores_synonyms]\n"
   ]
  },
  {
   "cell_type": "code",
   "execution_count": 238,
   "metadata": {},
   "outputs": [],
   "source": [
    "llms_similarity_scores_main = [0.99, 0.87, 0.93, 0.8, 0.8, 0.95, 0.8, 0.95, 0.95, 0.95]"
   ]
  },
  {
   "cell_type": "code",
   "execution_count": 227,
   "metadata": {},
   "outputs": [
    {
     "data": {
      "text/plain": [
       "[0.95, 0.99, 0.99, 0.9, 0.9, 0.88, 0.99, 0.99, 0.98, 0.99]"
      ]
     },
     "execution_count": 227,
     "metadata": {},
     "output_type": "execute_result"
    }
   ],
   "source": [
    "llms_similarity_scores_synonyms_1"
   ]
  },
  {
   "cell_type": "code",
   "execution_count": 228,
   "metadata": {},
   "outputs": [
    {
     "data": {
      "text/plain": [
       "[0.99, 0.99, 0.95, 0.99, 1.0, 0.98, 0.97, 0.95, 0.99, 0.89]"
      ]
     },
     "execution_count": 228,
     "metadata": {},
     "output_type": "execute_result"
    }
   ],
   "source": [
    "llms_similarity_scores_synonyms_2"
   ]
  },
  {
   "cell_type": "code",
   "execution_count": 341,
   "metadata": {},
   "outputs": [],
   "source": [
    "llms_similarity_scores_synonyms_averaged = [sum(i)/len(i) for i in llms_similarity_scores_synonyms]"
   ]
  },
  {
   "cell_type": "code",
   "execution_count": 342,
   "metadata": {},
   "outputs": [
    {
     "data": {
      "text/plain": [
       "[0.97,\n",
       " 0.99,\n",
       " 0.97,\n",
       " 0.9450000000000001,\n",
       " 0.95,\n",
       " 0.9299999999999999,\n",
       " 0.98,\n",
       " 0.97,\n",
       " 0.985,\n",
       " 0.94]"
      ]
     },
     "execution_count": 342,
     "metadata": {},
     "output_type": "execute_result"
    }
   ],
   "source": [
    "llms_similarity_scores_synonyms_averaged"
   ]
  },
  {
   "cell_type": "code",
   "execution_count": 353,
   "metadata": {},
   "outputs": [
    {
     "data": {
      "text/plain": [
       "[0.99, 0.98, 0.99, 0.95, 0.99, 0.95, 0.97, 1.0, 0.8, 0.91]"
      ]
     },
     "execution_count": 353,
     "metadata": {},
     "output_type": "execute_result"
    }
   ],
   "source": [
    "llms_similarity_scores_letter_changes"
   ]
  },
  {
   "cell_type": "code",
   "execution_count": 352,
   "metadata": {},
   "outputs": [
    {
     "data": {
      "text/plain": [
       "[0.99, 0.87, 0.93, 0.8, 0.8, 0.95, 0.8, 0.95, 0.95, 0.95]"
      ]
     },
     "execution_count": 352,
     "metadata": {},
     "output_type": "execute_result"
    }
   ],
   "source": [
    "llms_similarity_scores_main"
   ]
  },
  {
   "cell_type": "markdown",
   "metadata": {},
   "source": [
    "### visualizations"
   ]
  },
  {
   "cell_type": "code",
   "execution_count": 360,
   "metadata": {},
   "outputs": [],
   "source": [
    "pdr_results_synonyms_llm = compute_pdr_from_similarity(llms_similarity_scores_main, llms_similarity_scores_synonyms_averaged)\n",
    "# pdr_results_synonyms_2 = compute_pdr_from_similarity(llms_similarity_scores_main, llms_similarity_scores_synonyms_2)\n",
    "pdr_results_letter_changes_llm = compute_pdr_from_similarity(llms_similarity_scores_main, llms_similarity_scores_letter_changes)\n",
    "\n"
   ]
  },
  {
   "cell_type": "code",
   "execution_count": 361,
   "metadata": {},
   "outputs": [
    {
     "name": "stdout",
     "output_type": "stream",
     "text": [
      "PDR for synonyms:  [{'Question_Index': 0, 'PDR': 0.02020202020202022, 'Similarity_Main': 0.99, 'Similarity_Variations': 0.97}, {'Question_Index': 1, 'PDR': -0.13793103448275867, 'Similarity_Main': 0.87, 'Similarity_Variations': 0.99}, {'Question_Index': 2, 'PDR': -0.043010752688172005, 'Similarity_Main': 0.93, 'Similarity_Variations': 0.97}, {'Question_Index': 3, 'PDR': -0.1812499999999999, 'Similarity_Main': 0.8, 'Similarity_Variations': 0.9450000000000001}, {'Question_Index': 4, 'PDR': -0.18749999999999978, 'Similarity_Main': 0.8, 'Similarity_Variations': 0.95}, {'Question_Index': 5, 'PDR': 0.021052631578947434, 'Similarity_Main': 0.95, 'Similarity_Variations': 0.9299999999999999}, {'Question_Index': 6, 'PDR': -0.22499999999999987, 'Similarity_Main': 0.8, 'Similarity_Variations': 0.98}, {'Question_Index': 7, 'PDR': -0.021052631578947434, 'Similarity_Main': 0.95, 'Similarity_Variations': 0.97}, {'Question_Index': 8, 'PDR': -0.03684210526315801, 'Similarity_Main': 0.95, 'Similarity_Variations': 0.985}, {'Question_Index': 9, 'PDR': 0.010526315789473717, 'Similarity_Main': 0.95, 'Similarity_Variations': 0.94}]\n",
      "--------------------------------\n",
      "PDR for letter changes:  [{'Question_Index': 0, 'PDR': 0.0, 'Similarity_Main': 0.99, 'Similarity_Variations': 0.99}, {'Question_Index': 1, 'PDR': -0.12643678160919536, 'Similarity_Main': 0.87, 'Similarity_Variations': 0.98}, {'Question_Index': 2, 'PDR': -0.06451612903225801, 'Similarity_Main': 0.93, 'Similarity_Variations': 0.99}, {'Question_Index': 3, 'PDR': -0.18749999999999978, 'Similarity_Main': 0.8, 'Similarity_Variations': 0.95}, {'Question_Index': 4, 'PDR': -0.23749999999999982, 'Similarity_Main': 0.8, 'Similarity_Variations': 0.99}, {'Question_Index': 5, 'PDR': 0.0, 'Similarity_Main': 0.95, 'Similarity_Variations': 0.95}, {'Question_Index': 6, 'PDR': -0.2124999999999999, 'Similarity_Main': 0.8, 'Similarity_Variations': 0.97}, {'Question_Index': 7, 'PDR': -0.05263157894736836, 'Similarity_Main': 0.95, 'Similarity_Variations': 1.0}, {'Question_Index': 8, 'PDR': 0.1578947368421052, 'Similarity_Main': 0.95, 'Similarity_Variations': 0.8}, {'Question_Index': 9, 'PDR': 0.042105263157894646, 'Similarity_Main': 0.95, 'Similarity_Variations': 0.91}]\n",
      "--------------------------------\n"
     ]
    }
   ],
   "source": [
    "# print(pdr_results_synonyms)\n",
    "print('PDR for synonyms: ',pdr_results_synonyms_llm)\n",
    "print('--------------------------------')\n",
    "# print(pdr_results_letter_changes)\n",
    "print('PDR for letter changes: ',pdr_results_letter_changes_llm)\n",
    "print('--------------------------------')\n",
    "\n"
   ]
  },
  {
   "cell_type": "code",
   "execution_count": 369,
   "metadata": {},
   "outputs": [],
   "source": [
    "pdr_results_synonyms_llm_pdr_only = [i['PDR'] for i in pdr_results_synonyms_llm]\n",
    "pdr_results_letter_changes_llm_pdr_only = [i['PDR'] for i in pdr_results_letter_changes_llm]\n",
    "\n",
    "# pdr_results_synonyms_llm_pdr_only\n",
    "# pdr_results_letter_changes_llm_pdr_only\n"
   ]
  },
  {
   "cell_type": "code",
   "execution_count": 358,
   "metadata": {},
   "outputs": [
    {
     "data": {
      "text/plain": [
       "array([0, 1, 2, 3, 4, 5, 6, 7, 8, 9])"
      ]
     },
     "execution_count": 358,
     "metadata": {},
     "output_type": "execute_result"
    }
   ],
   "source": [
    "import matplotlib.pyplot as plt\n",
    "import numpy as np\n",
    "\n",
    "# Define the PDR data\n",
    "\n",
    "pdr_synonyms = pdr_results_synonyms\n",
    "pdr_letter_changes = pdr_results_letter_changes\n",
    "\n",
    "# Question indices\n",
    "question_indices = np.arange(len(pdr_synonyms))\n",
    "\n",
    "question_indices\n"
   ]
  },
  {
   "cell_type": "code",
   "execution_count": 374,
   "metadata": {},
   "outputs": [
    {
     "data": {
      "image/png": "[encoded data removed]",
      "text/plain": [
       "<Figure size 800x400 with 1 Axes>"
      ]
     },
     "metadata": {},
     "output_type": "display_data"
    }
   ],
   "source": [
    "# Plot the bar chart\n",
    "bar_width = 0.25\n",
    "plt.figure(figsize=(8, 4))\n",
    "\n",
    "# plt.bar(question_indices - bar_width, pdr_synonyms_1, bar_width, label=\"Synonyms 1\", color='b')\n",
    "plt.bar(question_indices, pdr_results_synonyms_llm_pdr_only, bar_width, label=\"Synonyms\", color='b')\n",
    "plt.bar(question_indices + bar_width, pdr_results_letter_changes_llm_pdr_only, bar_width, label=\"Letter Changes\", color='r')\n",
    "\n",
    "# Labels and title\n",
    "plt.xlabel(\"Question Index\")\n",
    "plt.ylabel(\"PDR Value\")\n",
    "plt.title(\"Prompt Deviation Rate (PDR) Across Different Perturbations\")\n",
    "plt.xticks(question_indices, [f\"Q{i}\" for i in question_indices])\n",
    "plt.axhline(y=0, color='black', linewidth=0.8, linestyle=\"--\")  # Zero reference line\n",
    "plt.legend()\n",
    "\n",
    "# Show the plot\n",
    "plt.show()"
   ]
  },
  {
   "cell_type": "code",
   "execution_count": 373,
   "metadata": {},
   "outputs": [
    {
     "data": {
      "image/png": "[encoded data removed]",
      "text/plain": [
       "<Figure size 800x400 with 1 Axes>"
      ]
     },
     "metadata": {},
     "output_type": "display_data"
    }
   ],
   "source": [
    "import matplotlib.pyplot as plt\n",
    "import numpy as np\n",
    "\n",
    "\n",
    "\n",
    "\n",
    "# Question indices\n",
    "question_indices = np.arange(len(pdr_results_synonyms_pdr_only))\n",
    "\n",
    "# Plot the bar chart\n",
    "bar_width = 0.3\n",
    "plt.figure(figsize=(8, 4))\n",
    "\n",
    "plt.bar(question_indices - bar_width/2, pdr_results_synonyms_pdr_only, bar_width, label=\"Synonyms (Avg)\", color='b')\n",
    "plt.bar(question_indices + bar_width/2, pdr_results_letter_changes_pdr_only, bar_width, label=\"Letter Changes\", color='r')\n",
    "\n",
    "# Labels and title\n",
    "plt.xlabel(\"Question Index\")\n",
    "plt.ylabel(\"PDR Value\")\n",
    "plt.title(\"Comparison of Prompt Deviation Rate (PDR) Across Perturbations\")\n",
    "plt.xticks(question_indices, [f\"Q{i}\" for i in question_indices])\n",
    "plt.axhline(y=0, color='black', linewidth=0.8, linestyle=\"--\")  # Zero reference line\n",
    "plt.legend()\n",
    "\n",
    "# Show the plot\n",
    "plt.show()\n"
   ]
  },
  {
   "cell_type": "code",
   "execution_count": 379,
   "metadata": {},
   "outputs": [
    {
     "name": "stdout",
     "output_type": "stream",
     "text": [
      "Mean PDR Values:\n",
      "Synonyms (Avg): -0.07808055564425943\n",
      "Letter Changes: 0.017408274102658737\n",
      "Synonyms (LLM as a judge): -0.07808055564425943\n",
      "Letter Changes (LLM as a judge): -0.06810844895888214\n"
     ]
    }
   ],
   "source": [
    "print(\"Mean PDR Values:\")\n",
    "print(\"Synonyms (Avg):\", np.mean(pdr_results_synonyms_pdr_only))\n",
    "print(\"Letter Changes:\", np.mean(pdr_results_letter_changes_pdr_only))\n",
    "print(\"Synonyms (LLM as a judge):\", np.mean(pdr_results_synonyms_llm_pdr_only))\n",
    "print(\"Letter Changes (LLM as a judge):\", np.mean(pdr_results_letter_changes_llm_pdr_only))\n"
   ]
  },
  {
   "cell_type": "code",
   "execution_count": 386,
   "metadata": {},
   "outputs": [
    {
     "name": "stdout",
     "output_type": "stream",
     "text": [
      "Mean Similarity Scores:\n",
      "LLM as a judge Scores:\n",
      "  Original: 0.8989999999999998\n",
      "  Synonyms (Averaged): 0.9629999999999999\n",
      "  Letter Changes (Averaged): 0.9530000000000001\n",
      "\n",
      "Embedding Scores:\n",
      "  Original: 0.7061325900955124\n",
      "  Synonyms (Averaged): 0.6801651396738765\n",
      "  Letter Changes (Averaged): 0.6901797117898241\n"
     ]
    }
   ],
   "source": [
    "print(\"Mean Similarity Scores:\")\n",
    "print(\"LLM as a judge Scores:\")\n",
    "print(\"  Original:\", np.mean(llms_similarity_scores_main))\n",
    "print(\"  Synonyms (Averaged):\", np.mean(llms_similarity_scores_synonyms_averaged))\n",
    "print(\"  Letter Changes (Averaged):\", np.mean(llms_similarity_scores_letter_changes))\n",
    "\n",
    "print(\"\\nEmbedding Scores:\")\n",
    "print(\"  Original:\", np.mean(similarity_scores_main))\n",
    "print(\"  Synonyms (Averaged):\", np.mean(similarity_scores_synonyms))\n",
    "print(\"  Letter Changes (Averaged):\", np.mean(similarity_scores_all_averaged))\n",
    "\n",
    "\n",
    "\n"
   ]
  },
  {
   "cell_type": "code",
   "execution_count": 388,
   "metadata": {},
   "outputs": [
    {
     "name": "stdout",
     "output_type": "stream",
     "text": [
      "\n",
      "PDR Values from Mean Similarity Scores:\n",
      "LLM as judge:\n",
      "  Synonyms PDR: 0.0665\n",
      "  Letter Changes PDR: 0.0567\n",
      "\n",
      "Embedding based:\n",
      "  Synonyms PDR: 0.0368\n",
      "  Letter Changes PDR: 0.0226\n"
     ]
    }
   ],
   "source": [
    "# Calculate PDR values from mean similarity scores\n",
    "llm_pdr_synonyms = 1 - (0.8989999999999998 / 0.9629999999999999)\n",
    "llm_pdr_letter_changes = 1 - (0.8989999999999998 / 0.9530000000000001)\n",
    "\n",
    "embedding_pdr_synonyms = 1 - (0.6801651396738765 / 0.7061325900955124)\n",
    "embedding_pdr_letter_changes = 1 - (0.6901797117898241 / 0.7061325900955124)\n",
    "\n",
    "print(\"\\nPDR Values from Mean Similarity Scores:\")\n",
    "print(\"LLM as judge:\")\n",
    "print(f\"  Synonyms PDR: {llm_pdr_synonyms:.4f}\")\n",
    "print(f\"  Letter Changes PDR: {llm_pdr_letter_changes:.4f}\")\n",
    "print(\"\\nEmbedding based:\")\n",
    "print(f\"  Synonyms PDR: {embedding_pdr_synonyms:.4f}\") \n",
    "print(f\"  Letter Changes PDR: {embedding_pdr_letter_changes:.4f}\")\n"
   ]
  },
  {
   "cell_type": "code",
   "execution_count": null,
   "metadata": {},
   "outputs": [],
   "source": []
  }
 ],
 "metadata": {
  "kernelspec": {
   "display_name": "new_pg_env",
   "language": "python",
   "name": "python3"
  },
  "language_info": {
   "codemirror_mode": {
    "name": "ipython",
    "version": 3
   },
   "file_extension": ".py",
   "mimetype": "text/x-python",
   "name": "python",
   "nbconvert_exporter": "python",
   "pygments_lexer": "ipython3",
   "version": "3.10.16"
  }
 },
 "nbformat": 4,
 "nbformat_minor": 2
}
